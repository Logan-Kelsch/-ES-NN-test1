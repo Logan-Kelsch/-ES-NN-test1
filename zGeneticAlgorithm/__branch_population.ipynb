{
 "cells": [
  {
   "cell_type": "code",
   "execution_count": 1,
   "metadata": {},
   "outputs": [
    {
     "name": "stdout",
     "output_type": "stream",
     "text": [
      "Trying to load CSV file into DataFrame...\n",
      "loaded chunk 1 of size: 103800164 -> 57475164\n",
      "loaded chunk 2 of size: 103800164 -> 57475164\n",
      "loaded chunk 3 of size: 103800164 -> 57475164\n",
      "loaded chunk 4 of size: 103800164 -> 57475164\n",
      "loaded chunk 5 of size: 103800164 -> 57475164\n",
      "loaded chunk 6 of size: 103800164 -> 57475164\n",
      "loaded chunk 7 of size: 103800164 -> 57475164\n",
      "loaded chunk 8 of size: 103800164 -> 57475164\n",
      "loaded chunk 9 of size: 103800164 -> 57475164\n",
      "loaded chunk 10 of size: 103800164 -> 57475164\n",
      "loaded chunk 11 of size: 103800164 -> 57375164\n",
      "loaded chunk 12 of size: 103800164 -> 57475164\n",
      "loaded chunk 13 of size: 103800164 -> 57475164\n",
      "loaded chunk 14 of size: 92415380 -> 51171306\n",
      "concat chunks\n",
      "concatted chunks\n",
      "Success.\n",
      "Size of dataset:\t798346306\n",
      "[[0, 1, 2], [3], [151, 152, 153], [7, 8, 9, 10, 11, 12, 13, 14, 15, 16, 17, 18, 19, 20, 21, 22, 23, 24, 25, 26, 27, 28, 29, 30, 31, 32, 33, 34, 35, 36, 37, 38, 39, 40, 41, 42, 43, 44, 45, 46, 47, 48, 49, 50, 51, 52, 53, 54, 55, 56, 57, 58, 59, 60, 61, 62, 63, 64, 65, 66], [67, 68, 69, 70, 71, 72, 73, 74, 75, 76, 77, 78, 79, 80, 81, 82, 83, 84, 85, 86, 87, 88, 89, 90, 91, 92, 93, 94, 95, 96, 97, 98, 99, 100, 101, 102, 103, 104, 105, 106, 107, 108, 109, 110, 111, 112, 113, 114, 115, 116, 117, 118, 119, 120, 121, 122, 123, 124, 125, 126], [127, 128, 129, 130, 131, 132, 133, 134, 135, 136, 137, 138, 139, 140, 141, 142, 143, 144, 145, 146, 147, 148, 149, 150], [154, 155, 156, 157, 158, 159, 160, 161, 162, 163, 164, 165, 166, 167, 168, 169, 170, 171, 172, 173, 174, 175, 176, 177, 178, 179, 180, 181, 182, 183, 184, 185, 186, 187, 188, 189, 190, 191, 192, 193, 194, 195, 196, 197, 198, 199, 200, 201, 202, 203, 204, 205, 206, 207, 208, 209, 210, 211, 212], [213, 214, 215, 216, 217, 218, 219, 220, 221, 222, 223, 224, 225, 226, 227, 228, 229, 230, 231, 232, 233, 234, 235, 236, 237, 238, 239, 240, 241, 242, 243, 244, 245, 246, 247, 248, 249, 250, 251, 252, 253, 254, 255, 256, 257, 258, 259, 260, 261, 262, 263, 264, 265, 266, 267, 268, 269, 270, 271], [272, 273, 274, 275, 276, 277, 278, 279, 280, 281, 282, 283, 284, 285, 286, 287, 288, 289, 290, 291, 292, 293, 294, 295, 296, 297, 298, 299, 300, 301, 302, 303, 304, 305, 306, 307, 308, 309, 310, 311, 312, 313, 314, 315, 316, 317, 318, 319, 320, 321, 322, 323, 324, 325, 326, 327, 328, 329], [330, 331, 332, 333, 334, 335, 336, 337, 338, 339], [340, 341, 342, 343, 344, 345, 346, 347, 348, 349, 350, 351, 352, 353, 354, 355, 356, 357, 358, 359, 360, 361, 362, 363, 364, 365, 366, 367, 368, 369, 370, 371, 372, 373, 374, 375, 376, 377, 378, 379, 380, 381, 382, 383, 384, 385, 386, 387, 388, 389, 390, 391, 392, 393, 394, 395, 396, 397], [398, 399, 400, 401, 402, 403, 404, 405, 406, 407], [408, 409, 410, 411, 412, 413, 414, 415, 416, 417, 418, 419, 420, 421, 422], [423, 424, 425, 426, 427, 428], [429, 430, 431, 432, 433, 434], [435, 436, 437, 438, 439, 440], [441, 442, 443, 444, 445, 446], [447, 448, 449, 450, 451, 452, 453, 454, 455, 456, 457, 458, 459, 460, 461, 462, 463, 464, 465, 466, 467, 468, 469, 470, 471, 472, 473, 474, 475, 476, 477, 478, 479, 480, 481, 482], [483, 484, 485, 486, 487, 488, 489, 490, 491, 492, 493, 494, 495, 496, 497, 498, 499, 500, 501, 502, 503, 504, 505, 506, 507, 508, 509, 510, 511, 512, 513, 514, 515, 516, 517, 518]]\n"
     ]
    }
   ],
   "source": [
    "import _09_utility as util\n",
    "\n",
    "dataset = util.load_large_csv('spx_features.csv')\n",
    "fssr = util.fn_all_subsets(True,0,True)\n",
    "fssd = util.fnsubset_to_indexdictlist(dataset.columns,fssr)\n",
    "fss = []\n",
    "for d in fssd:\n",
    "    fss.append(list(d.keys()))\n",
    "print(fss)\n",
    "dataset = dataset.values\n",
    "arr_low = dataset[:,1]\n",
    "arr_close = dataset[:,2]"
   ]
  },
  {
   "cell_type": "code",
   "execution_count": 2,
   "metadata": {},
   "outputs": [],
   "source": [
    "log_normalize = True\n",
    "lag_allowance = 30\n",
    "generations = 10\n",
    "hold_for = 15\n",
    "log_normalize = True\n",
    "lag_allowance = 30\n",
    "generations = 10\n",
    "num_eras = 1\n",
    "hold_for = 15\n",
    "criteria = 'r2'\n",
    "elite_criteria = 1\n",
    "num_parents = 10\n",
    "rep_mode = 'exponential'\n",
    "part_mproba = 0.000\n",
    "ptrn_mproba = 0.000\n",
    "using_batches = False\n",
    "recomp_loaded_batches = []"
   ]
  },
  {
   "cell_type": "code",
   "execution_count": 3,
   "metadata": {},
   "outputs": [],
   "source": [
    "import warnings\n",
    "warnings.simplefilter(\"error\", category=RuntimeWarning)\n",
    "\n",
    "import _00_gene as _0\n",
    "import _01_initialization as _1\n",
    "import _02_evaluation as _2\n",
    "import _05_reproduction as _5\n",
    "import _10_era as _10"
   ]
  },
  {
   "cell_type": "code",
   "execution_count": 4,
   "metadata": {},
   "outputs": [],
   "source": [
    "import _00_gene as _0\n",
    "load_genes = _0.load_custom_genes(\n",
    "\tfss=fss,lag_allowance=lag_allowance,gene_pattern_sets=[[#0\n",
    "        (412, 10, 'gt', 412, 14),(454, 8, 'gt', 464, 24)],[#1\n",
    "\t\t(45, 1, 'gt', 46, 7),(6, 24, 'gt', 6, 16)],[#2\n",
    "\t\t(199, 16, 'lt', 164, 15),(421, 19, 'lt', 410, 22)],[#3\n",
    "\t\t(412, 12, 'gt', 408, 19),(454, 8, 'gt', 476, 10)],[#4\n",
    "\t\t(411, 23, 'gt', 419, 22),(204, 25, 'lt', 154, 21)],[#5\n",
    "\t\t(411, 4, 'lt', 444, 13),(514, 7, 'lt', 494, 8)],[#6\n",
    "\t\t(423, 22, 'lt', 423, 14),(428, 5, 'lt', 428, 20)],[#7\n",
    "\t\t(212, 10, 'lt', 207, 18),(77, 13, 'lt', 68, 4)],[#8\n",
    "\t\t(440, 27, 'gt', 437, 0),(423, 12, 'lt', 423, 6)],[#9\n",
    "\t\t(438, 27, 'lt', 435, 17),(403, 6, 'gt', 401, 0)],[#10\n",
    "\t\t(466, 20, 'gt', 470, 15),(436, 10, 'lt', 440, 29)],[#11\n",
    "\t\t(514, 2, 'lt', 491, 16),(428, 23, 'gt', 428, 14),(417, 26, 'gt', 419, 17)]])"
   ]
  },
  {
   "cell_type": "code",
   "execution_count": 5,
   "metadata": {},
   "outputs": [
    {
     "name": "stdout",
     "output_type": "stream",
     "text": [
      "Expanded population: 12 -> 2300 at length 3.\n"
     ]
    }
   ],
   "source": [
    "import _05_reproduction as _5\n",
    "\n",
    "recomp_loaded = _5.expansive_recomposition(\n",
    "    population=load_genes,\n",
    "    num_patterns=3\n",
    ")"
   ]
  },
  {
   "cell_type": "code",
   "execution_count": 6,
   "metadata": {},
   "outputs": [],
   "source": [
    "arr_returns, arr_kratio = _1.collect_parallel_metrics(\n",
    "\tarr_close=arr_close,\n",
    "\tarr_low=arr_low,\n",
    "\thold_for=hold_for,\n",
    "\tlag_allow=lag_allowance,\n",
    "\tlog_normalize=log_normalize\n",
    ")"
   ]
  },
  {
   "cell_type": "code",
   "execution_count": 7,
   "metadata": {},
   "outputs": [],
   "source": [
    "era_args = {\n",
    "\t\t'generations'\t:\t1,\n",
    "\t\t'dataset'\t\t:\tdataset,\n",
    "\t\t'fss'\t\t\t:\tfss,\n",
    "\t\t'criteria'\t:\tcriteria,\n",
    "        'with_array'\t:\tFalse,\n",
    "\t\t'log_normalize'\t:\tlog_normalize,\n",
    "\t\t'hold_for'\t:\thold_for,\n",
    "\t\t'lag_allowance'\t:\tlag_allowance,\n",
    "\t\t'arr_returns'\t:\tarr_returns,\n",
    "\t\t'arr_kratio'\t:\tarr_kratio,\n",
    "\t\t'elite_criteria' : 1,\n",
    "\t\t'num_parents' : 4,\n",
    "\t\t'rep_mode' : 'exponential',\n",
    "\t\t'part_mproba' : 0.000,\n",
    "\t\t'ptrn_mproba' : 0.000,\n",
    "\t\t'use_strict_filter'\t:\tTrue,\n",
    "\t\t'strict_filter_kwargs'\t:\t{\n",
    "\t\t\t'avg_return':(2.50 / 25000),\n",
    "\t\t\t'tot_return':0.25,\n",
    "\t\t\t'profit_factor':0.5,\n",
    "\t\t\t'kelsch_ratio':2.0,\n",
    "\t\t\t'entry_frequency':0.005,\n",
    "\t\t\t'r2':0.8\n",
    "\t\t}}"
   ]
  },
  {
   "cell_type": "code",
   "execution_count": 8,
   "metadata": {},
   "outputs": [
    {
     "name": "stdout",
     "output_type": "stream",
     "text": [
      "Expanded population: 12 -> 2300 at length 3.\n"
     ]
    }
   ],
   "source": [
    "import _05_reproduction as _5\n",
    "\n",
    "recomp_loaded = _5.expansive_recomposition(\n",
    "    population=load_genes,\n",
    "    num_patterns=3\n",
    ")"
   ]
  },
  {
   "cell_type": "code",
   "execution_count": 10,
   "metadata": {},
   "outputs": [
    {
     "name": "stdout",
     "output_type": "stream",
     "text": [
      "325000  EON 1 ERA 1 GEN 1 (r2):::: Zero genes survived.\n",
      "325000  EON 1 ERA 2 GEN 1 (r2):::: AVG 0.93907, BEST 0.94821, FROM 3 GENES.\n",
      "325000  EON 1 ERA 3 GEN 1 (r2):::: AVG 0.92557, BEST 0.92557, FROM 1 GENES.\n",
      "325000  EON 1 ERA 4 GEN 1 (r2):::: AVG 0.89871, BEST 0.89871, FROM 1 GENES.\n",
      "325000  EON 1 ERA 5 GEN 1 (r2):::: AVG 0.89184, BEST 0.9327, FROM 6 GENES.\n",
      "325000  EON 1 ERA 6 GEN 1 (r2):::: AVG 0.91055, BEST 0.94739, FROM 5 GENES.\n",
      "325000  EON 1 ERA 7 GEN 1 (r2):"
     ]
    },
    {
     "ename": "",
     "evalue": "",
     "output_type": "error",
     "traceback": [
      "\u001b[1;31mThe Kernel crashed while executing code in the current cell or a previous cell. \n",
      "\u001b[1;31mPlease review the code in the cell(s) to identify a possible cause of the failure. \n",
      "\u001b[1;31mClick <a href='https://aka.ms/vscodeJupyterKernelCrash'>here</a> for more info. \n",
      "\u001b[1;31mView Jupyter <a href='command:jupyter.viewOutput'>log</a> for further details."
     ]
    }
   ],
   "source": [
    "import _11_eon as _11\n",
    "\n",
    "endeon = _11.autobatch_eon(\n",
    "    eon_num=0,\n",
    "    population=recomp_loaded,\n",
    "    criteria=criteria,\n",
    "    filter_tightening={},\n",
    "    era_kwargs=era_args,\n",
    "    spec_batch_size=200\n",
    ")"
   ]
  },
  {
   "cell_type": "code",
   "execution_count": null,
   "metadata": {},
   "outputs": [],
   "source": [
    "len(endeon)"
   ]
  },
  {
   "cell_type": "code",
   "execution_count": null,
   "metadata": {},
   "outputs": [],
   "source": [
    "import _10_era as _10\n",
    "reload(_10)\n",
    "reload(_2)\n",
    "\n",
    "endtime = _10.era(\n",
    "    eon_num=0,\n",
    "\tera_num\t=\t0,\n",
    "\tnew_population\t=\tendeon,\n",
    "\tgenerations\t=\t1,\n",
    "\tdataset\t\t=\tdataset,\n",
    "\tfss\t\t\t=\tfss,\n",
    "\tcriteria\t=\tcriteria,\n",
    "    with_array=True,\n",
    "\tlog_normalize\t=\tlog_normalize,\n",
    "\thold_for\t=\thold_for,\n",
    "\tlag_allowance\t=\tlag_allowance,\n",
    "\tarr_returns\t=\tarr_returns,\n",
    "\tarr_kratio\t=\tarr_kratio,\n",
    "\telite_criteria = 1,\n",
    "\tnum_parents = 4,\n",
    "\trep_mode = 'exponential',\n",
    "\tpart_mproba = 0.000,\n",
    "\tptrn_mproba = 0.000,\n",
    "\tuse_strict_filter\t=\tTrue,\n",
    "\tstrict_filter_kwargs\t=\t{\n",
    "\t\t'avg_return':(2.50 / 25000),\n",
    "\t\t'tot_return':0.25,\n",
    "\t\t'profit_factor':0.5,\n",
    "\t\t'kelsch_ratio':2.0,\n",
    "\t\t'entry_frequency':0.01,\n",
    "           'r2':0.6\n",
    "}\n",
    ")"
   ]
  },
  {
   "cell_type": "code",
   "execution_count": null,
   "metadata": {},
   "outputs": [],
   "source": [
    "reload(_2)\n",
    "print(_2.show_best_gene_patterns(endtime,criteria,fssd))\n",
    "_2.show_returns(endtime[0]._array_returns, arr_close=arr_close, gene_kwargs={\"population\":endtime,\"criteria\":criteria,\"fss\":fssd})"
   ]
  },
  {
   "cell_type": "code",
   "execution_count": null,
   "metadata": {},
   "outputs": [],
   "source": [
    "from importlib import reload\n",
    "import _00_gene as _0\n",
    "import _01_initialization as _1\n",
    "import _02_evaluation as _2\n",
    "reload(_0)\n",
    "reload(_2)\n",
    "\n",
    "log_normalize = True\n",
    "lag_allowance = 30\n",
    "generations = 5\n",
    "hold_for = 15\n",
    "criteria = 'mkr'\n",
    "elite_criteria = 1\n",
    "num_parents = 10\n",
    "rep_mode = 'exponential'\n",
    "part_mproba = 0.000\n",
    "ptrn_mproba = 0.000\n",
    "\n",
    "arr_returns, arr_kratio = _1.collect_parallel_metrics(\n",
    "\tarr_close=arr_close,\n",
    "\tarr_low=arr_low,\n",
    "\thold_for=hold_for,\n",
    "\tlag_allow=lag_allowance,\n",
    "\tlog_normalize=log_normalize\n",
    ")\n",
    "\n",
    "\n",
    "load_genes = _0.load_custom_genes(\n",
    "\tfss=fssd,\n",
    "\tlag_allowance=lag_allowance,\n",
    "\tgene_pattern_sets=[\n",
    "\t[#gene 0\n",
    "\t\t(412, 10, 'gt', 412, 14),\n",
    "\t\t(454, 8, 'gt', 464, 24)\n",
    "\t],[#gene 6\n",
    "\t\t(423, 22, 'lt', 423, 14),\n",
    "        (428, 5, 'lt', 428, 20)\n",
    "\t],[#gene 7\n",
    "\t\t(212, 10, 'lt', 207, 18),\n",
    "        (77, 13, 'lt', 68, 4)\n",
    "\t],[#gene 8\n",
    "\t\t(440, 27, 'gt', 437, 0),\n",
    "        (423, 12, 'lt', 423, 6)\n",
    "\t],\n",
    "]\n",
    ")\n",
    "\n",
    "\n",
    "new = _2.show_combined_performance(\n",
    "    population=load_genes,\n",
    "    arr_close=arr_close,\n",
    "    arr_low=arr_low,\n",
    "    arr_kratio=arr_kratio,\n",
    "    arr_returns=arr_returns,\n",
    "    data=dataset,\n",
    "    hold_for=hold_for,\n",
    "    lag_allow=lag_allowance,\n",
    "    specific_data=None,\n",
    "    log_normalize=log_normalize,\n",
    "    criteria=criteria,\n",
    "    fss=fssd\n",
    ")\n"
   ]
  },
  {
   "cell_type": "code",
   "execution_count": null,
   "metadata": {},
   "outputs": [],
   "source": []
  }
 ],
 "metadata": {
  "kernelspec": {
   "display_name": ".tf_",
   "language": "python",
   "name": "python3"
  },
  "language_info": {
   "codemirror_mode": {
    "name": "ipython",
    "version": 3
   },
   "file_extension": ".py",
   "mimetype": "text/x-python",
   "name": "python",
   "nbconvert_exporter": "python",
   "pygments_lexer": "ipython3",
   "version": "3.12.3"
  }
 },
 "nbformat": 4,
 "nbformat_minor": 2
}
