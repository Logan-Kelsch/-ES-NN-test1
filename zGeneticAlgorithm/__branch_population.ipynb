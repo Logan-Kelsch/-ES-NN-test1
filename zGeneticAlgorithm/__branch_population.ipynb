{
 "cells": [
  {
   "cell_type": "code",
   "execution_count": null,
   "metadata": {},
   "outputs": [],
   "source": [
    "import _09_utility as util\n",
    "\n",
    "dataset = util.load_large_csv('spx_newest.csv')\n",
    "fssr = util.fn_all_subsets(True,0,True)\n",
    "fssd = util.fnsubset_to_indexdictlist(dataset.columns,fssr)\n",
    "fss = []\n",
    "for d in fssd:\n",
    "    fss.append(list(d.keys()))\n",
    "print(fss)\n",
    "dataset = dataset.values\n",
    "direction = 1\n",
    "if(direction==1):\n",
    "\tarr_ext = dataset[:,1]\n",
    "else:\n",
    "    arr_ext = dataset[:,0]\n",
    "arr_close = dataset[:,2]"
   ]
  },
  {
   "cell_type": "code",
   "execution_count": null,
   "metadata": {},
   "outputs": [],
   "source": [
    "log_normalize = True\n",
    "lag_allowance = 30\n",
    "generations = 10\n",
    "hold_for = 20\n",
    "log_normalize = True\n",
    "lag_allowance = 30\n",
    "generations = 10\n",
    "num_eras = 1\n",
    "criteria = 'r2'\n",
    "elite_criteria = 1\n",
    "num_parents = 10\n",
    "rep_mode = 'exponential'\n",
    "part_mproba = 0.000\n",
    "ptrn_mproba = 0.000\n",
    "using_batches = False\n",
    "recomp_loaded_batches = []"
   ]
  },
  {
   "cell_type": "code",
   "execution_count": null,
   "metadata": {},
   "outputs": [],
   "source": [
    "import warnings\n",
    "warnings.simplefilter(\"error\", category=RuntimeWarning)\n",
    "\n",
    "import _00_gene as _0\n",
    "import _01_initialization as _1\n",
    "import _02_evaluation as _2\n",
    "import _05_reproduction as _5\n",
    "import _10_era as _10"
   ]
  },
  {
   "cell_type": "code",
   "execution_count": null,
   "metadata": {},
   "outputs": [],
   "source": [
    "import _00_gene as _0\n",
    "load_genes = _0.load_custom_genes(\n",
    "\tfss=fss,lag_allowance=lag_allowance,gene_pattern_sets=[[#0\n",
    "        (412, 10, 'gt', 412, 14),(454, 8, 'gt', 464, 24)],[#1\n",
    "\t\t(45, 1, 'gt', 46, 7),(6, 24, 'gt', 6, 16)],[#2\n",
    "\t\t(199, 16, 'lt', 164, 15),(421, 19, 'lt', 410, 22)],[#3\n",
    "\t\t(412, 12, 'gt', 408, 19),(454, 8, 'gt', 476, 10)],[#4\n",
    "\t\t(411, 23, 'gt', 419, 22),(204, 25, 'lt', 154, 21)],[#5\n",
    "\t\t(411, 4, 'lt', 444, 13),(514, 7, 'lt', 494, 8)],[#6\n",
    "\t\t(423, 22, 'lt', 423, 14),(428, 5, 'lt', 428, 20)],[#7\n",
    "\t\t(212, 10, 'lt', 207, 18),(77, 13, 'lt', 68, 4)],[#8\n",
    "\t\t(440, 27, 'gt', 437, 0),(423, 12, 'lt', 423, 6)],[#9\n",
    "\t\t(438, 27, 'lt', 435, 17),(403, 6, 'gt', 401, 0)],[#10\n",
    "\t\t(466, 20, 'gt', 470, 15),(436, 10, 'lt', 440, 29)],[#11        \n",
    "\t\t(514, 2, 'lt', 491, 16),(428, 23, 'gt', 428, 14),(417, 26, 'gt', 419, 17)],[#12\n",
    "        (428, 5, 'lt', 428, 20),(466, 20, 'gt', 470, 15)],[#13\n",
    "        (440, 27, 'gt', 437, 0),(411, 23, 'gt', 419, 22),(466, 20, 'gt', 470, 15)],[#14\n",
    "        (436, 10, 'lt', 440, 29),(428, 5, 'lt', 428, 20),(412, 10, 'gt', 412, 14)],[#15\n",
    "        (412, 10, 'gt', 412, 14),(454, 8, 'gt', 464, 24),(461, 13, 'lt', 470, 22)],[#16\n",
    "        (466, 20, 'gt', 470, 15),(436, 10, 'lt', 440, 29),(3, 16, 'lt', 440, 29)],[#17\n",
    "        (466, 20, 'gt', 470, 15),(436, 10, 'lt', 440, 29),(436, 15, 'gt', 439, 0)],[#18\n",
    "        (466, 20, 'gt', 470, 15),(436, 10, 'lt', 440, 29),(3, 17, 'lt', 3, 3)],[#19\n",
    "        (466, 20, 'gt', 470, 15),(436, 10, 'lt', 440, 29),(3, 10, 'lt', 3, 0)],[#20\n",
    "\t\t(400, 15, 'lt', 405, 15),(339, 26, 'gt', 332, 7)],[#21\n",
    "        (522, 28, 'lt', 522, 16),(192, 19, 'lt', 183, 30)],[#22\n",
    "        (176, 30, 'gt', 186, 16),(543, 29, 'gt', 536, 2)]\n",
    "        ])"
   ]
  },
  {
   "cell_type": "code",
   "execution_count": null,
   "metadata": {},
   "outputs": [],
   "source": [
    "arr_returns, arr_kratio = _1.collect_parallel_metrics(\n",
    "    direction=direction,\n",
    "\tarr_close=arr_close,\n",
    "\tarr_ext=arr_ext,\n",
    "\thold_for=hold_for,\n",
    "\tlag_allow=lag_allowance,\n",
    "\tlog_normalize=log_normalize\n",
    ")"
   ]
  },
  {
   "cell_type": "code",
   "execution_count": null,
   "metadata": {},
   "outputs": [],
   "source": [
    "era_args = {\n",
    "\t\t'generations'\t:\t1,\n",
    "\t\t'dataset'\t\t:\tdataset,\n",
    "\t\t'fss'\t\t\t:\tfss,\n",
    "\t\t'criteria'\t:\tcriteria,\n",
    "        'with_array'\t:\tFalse,\n",
    "\t\t'log_normalize'\t:\tlog_normalize,\n",
    "\t\t'hold_for'\t:\thold_for,\n",
    "\t\t'lag_allowance'\t:\tlag_allowance,\n",
    "\t\t'arr_returns'\t:\tarr_returns,\n",
    "\t\t'arr_kratio'\t:\tarr_kratio,\n",
    "\t\t'elite_criteria' : 1,\n",
    "\t\t'num_parents' : 4,\n",
    "\t\t'rep_mode' : 'exponential',\n",
    "\t\t'part_mproba' : 0.000,\n",
    "\t\t'ptrn_mproba' : 0.000,\n",
    "\t\t'use_strict_filter'\t:\tTrue,\n",
    "\t\t'strict_filter_kwargs'\t:\t{\n",
    "\t\t\t'avg_return':(3.50 / 25000),\n",
    "\t\t\t'tot_return':0.25,\n",
    "\t\t\t'profit_factor':1.25,\n",
    "\t\t\t'kelsch_ratio':1.0,\n",
    "\t\t\t'entry_frequency':0.005,\n",
    "\t\t\t'r2':0.75\n",
    "\t\t}}"
   ]
  },
  {
   "cell_type": "code",
   "execution_count": null,
   "metadata": {},
   "outputs": [],
   "source": [
    "new_population = _1.generate_initial_population(\n",
    "\tsample_size=1000,\n",
    "\tpattern_size=2,\n",
    "\tfeat_idx_pool=fss,\n",
    "\tlag_allowance=lag_allowance,\n",
    "\tskew_lag_prob=False\n",
    ")"
   ]
  },
  {
   "cell_type": "code",
   "execution_count": null,
   "metadata": {},
   "outputs": [],
   "source": [
    "import _05_reproduction as _5\n",
    "\n",
    "recomp_loaded = _5.expansive_recomposition(\n",
    "    population=load_genes,\n",
    "    num_patterns=2\n",
    ")"
   ]
  },
  {
   "cell_type": "code",
   "execution_count": null,
   "metadata": {},
   "outputs": [],
   "source": [
    "import _05_reproduction as _5\n",
    "\n",
    "evo_pop = _5.evolutionary_branch(\n",
    "\tgene=load_genes[21],\n",
    "    branch_size=250\n",
    ")"
   ]
  },
  {
   "cell_type": "code",
   "execution_count": null,
   "metadata": {},
   "outputs": [],
   "source": [
    "import _05_reproduction as _5\n",
    "from importlib import reload\n",
    "reload(_5)\n",
    "reload(_0)\n",
    "\n",
    "addv_pop = _5.additive_branch(\n",
    "    gene=load_genes[21]\n",
    "    ,branch_size=250\n",
    "    ,fss=fss\n",
    ")"
   ]
  },
  {
   "cell_type": "code",
   "execution_count": null,
   "metadata": {},
   "outputs": [],
   "source": [
    "import _11_eon as _11\n",
    "\n",
    "endeon = _11.autobatch_eon(\n",
    "    eon_num=0,\n",
    "    population=addv_pop,\n",
    "    criteria=criteria,\n",
    "    filter_tightening={},\n",
    "    era_kwargs=era_args,\n",
    "    spec_batch_size=100\n",
    ")"
   ]
  },
  {
   "cell_type": "code",
   "execution_count": null,
   "metadata": {},
   "outputs": [],
   "source": [
    "import copy\n",
    "endeon_backup = copy.deepcopy(endeon)"
   ]
  },
  {
   "cell_type": "code",
   "execution_count": null,
   "metadata": {},
   "outputs": [],
   "source": [
    "endeon = copy.deepcopy(endeon_backup)\n",
    "endeon_backup = copy.deepcopy(endeon)\n",
    "len(endeon_backup)"
   ]
  },
  {
   "cell_type": "code",
   "execution_count": null,
   "metadata": {},
   "outputs": [],
   "source": [
    "import _10_era as _10\n",
    "\n",
    "criteria = 'r2'\n",
    "\n",
    "endtime = _10.era(\n",
    "    eon_num=0, \n",
    "\tera_num\t=\t0,\n",
    "\tnew_population\t=\tendeon,\n",
    "\tgenerations\t=\t1,\n",
    "\tdataset\t\t=\tdataset,\n",
    "\tfss\t\t\t=\tfss,\n",
    "\tcriteria\t=\tcriteria,\n",
    "    with_array=True,\n",
    "\tlog_normalize\t=\tlog_normalize,\n",
    "\thold_for\t=\thold_for,\n",
    "\tlag_allowance\t=\tlag_allowance,\n",
    "\tarr_returns\t=\tarr_returns,\n",
    "\tarr_kratio\t=\tarr_kratio,\n",
    "\telite_criteria = 1,\n",
    "\tnum_parents = 4,\n",
    "\trep_mode = 'exponential',\n",
    "\tpart_mproba = 0.000,\n",
    "\tptrn_mproba = 0.000,\n",
    "\tuse_strict_filter\t=\tTrue,\n",
    "\tstrict_filter_kwargs\t=\t{\n",
    "\t\t'avg_return':(3.5 / 25000),\n",
    "\t\t'tot_return':0.5,\n",
    "\t\t'profit_factor':1.25,\n",
    "\t\t'kelsch_ratio':2.0,\n",
    "        #'mkr':0.9,\n",
    "\t\t'entry_frequency':0.005,\n",
    "           'r2':0.8\n",
    "}\n",
    ")"
   ]
  },
  {
   "cell_type": "code",
   "execution_count": null,
   "metadata": {},
   "outputs": [],
   "source": [
    "#reload(_2)\n",
    "print(_2.show_best_gene_patterns(endtime,criteria,fssd))\n",
    "_2.show_returns(endtime[0]._array_returns, arr_close=arr_close, gene_kwargs={\"population\":endtime,\"criteria\":criteria,\"fss\":fssd})"
   ]
  },
  {
   "cell_type": "code",
   "execution_count": null,
   "metadata": {},
   "outputs": [],
   "source": [
    "'''new = _2.show_combined_performance(\n",
    "    population=load_genes,\n",
    "    arr_close=arr_close,\n",
    "    arr_low=arr_low,\n",
    "    arr_kratio=arr_kratio,\n",
    "    arr_returns=arr_returns,\n",
    "    data=dataset,\n",
    "    hold_for=hold_for,\n",
    "    lag_allow=lag_allowance,\n",
    "    specific_data=None,\n",
    "    log_normalize=log_normalize,\n",
    "    criteria=criteria,\n",
    "    fss=fssd\n",
    ")'''"
   ]
  }
 ],
 "metadata": {
  "kernelspec": {
   "display_name": ".tf_",
   "language": "python",
   "name": "python3"
  },
  "language_info": {
   "codemirror_mode": {
    "name": "ipython",
    "version": 3
   },
   "file_extension": ".py",
   "mimetype": "text/x-python",
   "name": "python",
   "nbconvert_exporter": "python",
   "pygments_lexer": "ipython3",
   "version": "3.12.3"
  }
 },
 "nbformat": 4,
 "nbformat_minor": 2
}
