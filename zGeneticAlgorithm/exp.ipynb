{
 "cells": [
  {
   "cell_type": "markdown",
   "metadata": {},
   "source": [
    "steps of a genetic algorithm:\n",
    "\n",
    "initialization\n",
    "evaluation\n",
    "elitism\n",
    "parent selection\n",
    "reproduction\n",
    "mutation"
   ]
  },
  {
   "cell_type": "markdown",
   "metadata": {},
   "source": [
    "candlestick based genalg params:\n",
    "modify these based off of largely expanded featurespace\n",
    "\n",
    "popsize - 200\n",
    "num gens - 9\n",
    "elitism copys - 1\n",
    "mutation prob - 5%\n",
    "fresh pattern prob - 2%\n",
    "min number of patterns - 2.5%"
   ]
  },
  {
   "cell_type": "code",
   "execution_count": 2,
   "metadata": {},
   "outputs": [
    {
     "name": "stdout",
     "output_type": "stream",
     "text": [
      "Trying to load CSV file into DataFrame...\n",
      "loaded chunk 1 of size: 103800164\n",
      "loaded chunk 2 of size: 103800164\n",
      "loaded chunk 3 of size: 103800164\n",
      "loaded chunk 4 of size: 103800164\n",
      "loaded chunk 5 of size: 103800164\n",
      "loaded chunk 6 of size: 103800164\n",
      "loaded chunk 7 of size: 103800164\n",
      "loaded chunk 8 of size: 103800164\n",
      "loaded chunk 9 of size: 103800164\n",
      "loaded chunk 10 of size: 103800164\n",
      "loaded chunk 11 of size: 103800164\n",
      "loaded chunk 12 of size: 103800164\n",
      "loaded chunk 13 of size: 103800164\n",
      "loaded chunk 14 of size: 92415380\n",
      "concat chunks\n",
      "concatted chunks\n",
      "Success.\n",
      "Size of dataset:\t1441815380\n"
     ]
    }
   ],
   "source": [
    "import _9_utility as util\n",
    "\n",
    "dataset = util.load_large_csv('spx_features.csv')\n"
   ]
  },
  {
   "cell_type": "code",
   "execution_count": 3,
   "metadata": {},
   "outputs": [
    {
     "name": "stdout",
     "output_type": "stream",
     "text": [
      "[[0, 1, 2, 4, 3, 5, 6, 151, 152, 153], [7, 8, 9, 10, 11, 12, 13, 14, 15, 16, 17, 18, 19, 20, 21, 22, 23, 24, 25, 26, 27, 28, 29, 30, 31, 32, 33, 34, 35, 36, 37, 38, 39, 40, 41, 42, 43, 44, 45, 46, 47, 48, 49, 50, 51, 52, 53, 54, 55, 56, 57, 58, 59, 60, 61, 62, 63, 64, 65, 66], [67, 68, 69, 70, 71, 72, 73, 74, 75, 76, 77, 78, 79, 80, 81, 82, 83, 84, 85, 86, 87, 88, 89, 90, 91, 92, 93, 94, 95, 96, 97, 98, 99, 100, 101, 102, 103, 104, 105, 106, 107, 108, 109, 110, 111, 112, 113, 114, 115, 116, 117, 118, 119, 120, 121, 122, 123, 124, 125, 126], [127, 128, 129, 130, 131, 132, 133, 134, 135, 136, 137, 138, 139, 140, 141, 142, 143, 144, 145, 146, 147, 148, 149, 150], [154, 155, 156, 157, 158, 159, 160, 161, 162, 163, 164, 165, 166, 167, 168, 169, 170, 171, 172, 173, 174, 175, 176, 177, 178, 179, 180, 181, 182, 183, 184, 185, 186, 187, 188, 189, 190, 191, 192, 193, 194, 195, 196, 197, 198, 199, 200, 201, 202, 203, 204, 205, 206, 207, 208, 209, 210, 211, 212], [213, 214, 215, 216, 217, 218, 219, 220, 221, 222, 223, 224, 225, 226, 227, 228, 229, 230, 231, 232, 233, 234, 235, 236, 237, 238, 239, 240, 241, 242, 243, 244, 245, 246, 247, 248, 249, 250, 251, 252, 253, 254, 255, 256, 257, 258, 259, 260, 261, 262, 263, 264, 265, 266, 267, 268, 269, 270, 271], [272, 273, 274, 275, 276, 277, 278, 279, 280, 281, 282, 283, 284, 285, 286, 287, 288, 289, 290, 291, 292, 293, 294, 295, 296, 297, 298, 299, 300, 301, 302, 303, 304, 305, 306, 307, 308, 309, 310, 311, 312, 313, 314, 315, 316, 317, 318, 319, 320, 321, 322, 323, 324, 325, 326, 327, 328, 329], [330, 331, 332, 333, 334, 335, 336, 337, 338, 339], [340, 341, 342, 343, 344, 345, 346, 347, 348, 349, 350, 351, 352, 353, 354, 355, 356, 357, 358, 359, 360, 361, 362, 363, 364, 365, 366, 367, 368, 369, 370, 371, 372, 373, 374, 375, 376, 377, 378, 379, 380, 381, 382, 383, 384, 385, 386, 387, 388, 389, 390, 391, 392, 393, 394, 395, 396, 397], [398, 399, 400, 401, 402, 403, 404, 405, 406, 407], [408, 409, 410, 411, 412, 413, 414, 415, 416, 417, 418, 419, 420, 421, 422], [423, 424, 425, 426, 427, 428], [429, 430, 431, 432, 433, 434], [435, 436, 437, 438, 439, 440], [441, 442, 443, 444, 445, 446], [447, 448, 449, 450, 451, 452, 453, 454, 455, 456, 457, 458, 459, 460, 461, 462, 463, 464, 465, 466, 467, 468, 469, 470, 471, 472, 473, 474, 475, 476, 477, 478, 479, 480, 481, 482], [483, 484, 485, 486, 487, 488, 489, 490, 491, 492, 493, 494, 495, 496, 497, 498, 499, 500, 501, 502, 503, 504, 505, 506, 507, 508, 509, 510, 511, 512, 513, 514, 515, 516, 517, 518]]\n"
     ]
    }
   ],
   "source": [
    "fssr = util.fn_all_subsets(True,0,True)\n",
    "fssd = util.fnsubset_to_indexdictlist(dataset.columns,fssr)\n",
    "fss = []\n",
    "for d in fssd:\n",
    "    fss.append(list(d.keys()))\n",
    "print(fss)"
   ]
  },
  {
   "cell_type": "code",
   "execution_count": 4,
   "metadata": {},
   "outputs": [],
   "source": [
    "dataset = dataset.values\n",
    "arr_low = dataset[:,1]\n",
    "arr_close = dataset[:,2]"
   ]
  },
  {
   "cell_type": "code",
   "execution_count": 92,
   "metadata": {},
   "outputs": [
    {
     "name": "stdout",
     "output_type": "stream",
     "text": [
      "3\n",
      "beginning generational loop\n",
      "Generation 1 (profit_factor): AVG 0.9372399999999999, BEST 1.2959, FROM 100 GENES.\n",
      "pattern pool len = 9\n",
      "combo len = 84\n",
      "Generation 2 (profit_factor): AVG 1.0856023529411765, BEST 1.1867, FROM 85 GENES.\n",
      "pattern pool len = 7\n",
      "combo len = 35\n"
     ]
    }
   ],
   "source": [
    "#example for initiation and evaluation steps\n",
    "\n",
    "from importlib import reload\n",
    "import _0_gene as _0\n",
    "reload(_0)\n",
    "import _1_initialization as _1\n",
    "reload(_1)\n",
    "import _2_evaluation as _2\n",
    "reload(_2)\n",
    "import _3_elitism as _3\n",
    "reload(_3)\n",
    "import _4_parentselection as _4\n",
    "reload(_4)\n",
    "import _5_reproduction as _5\n",
    "reload(_5)\n",
    "import _6_mutation as _6\n",
    "import _9_utility as util\n",
    "\n",
    "\n",
    "#dataset = util.load_large_csv('spx_features.csv')\n",
    "#dataset, fss = util.drop_all_targets()\n",
    "\n",
    "log_normalize = True\n",
    "lag_allowance = 30\n",
    "generations = 2\n",
    "hold_for = 10\n",
    "\n",
    "\n",
    "new_population = _1.generate_initial_population(\n",
    "    sample_size=100,\n",
    "    pattern_size=3,\n",
    "    feat_idx_pool=fss,\n",
    "    lag_allowance=lag_allowance,\n",
    "    skew_lag_prob=False\n",
    ")\n",
    "\n",
    "print(len(new_population[0]._patterns))\n",
    "\n",
    "print('beginning generational loop')\n",
    "\n",
    "#begin generational loop\n",
    "for generation in range(generations):\n",
    "\n",
    "\tpopulation = new_population\n",
    "\n",
    "\treturns, kelsch_ratio = _2.fitness(\n",
    "\t\tarr_close=arr_close,\n",
    "\t\tarr_low=arr_low,\n",
    "\t\tdata = dataset,\n",
    "\t\tgenes= population,\n",
    "\t\thold_for=hold_for,\n",
    "\t\tlag_allow=lag_allowance,\n",
    "\t\tspecific_data='form_519',\n",
    "\t\tlog_normalize=log_normalize\n",
    "\t)\n",
    "\n",
    "\n",
    "\tunsorted_population = _2.associate(\n",
    "\t\tgenes=population,\n",
    "\t\treturns=returns,\n",
    "\t\tkelsch_ratio=kelsch_ratio,\n",
    "\t\tlog_normalize=log_normalize\n",
    "\t)\n",
    "\n",
    "\n",
    "\tcriteria = 'profit_factor'\n",
    "\n",
    "\tpopulation = _2.sort_population(\n",
    "\t\tpopulation=unsorted_population,\n",
    "\t\tcriteria=criteria\n",
    "\t)\n",
    "\n",
    "\tavg, top = _2.simple_generational_stat_output(population,criteria)\n",
    "\tprint(f\"Generation {generation+1} ({criteria}): AVG {avg}, BEST {top}, FROM {len(population)} GENES.\")\n",
    "\n",
    "\n",
    "\telites = _3.collect_elite(\n",
    "\t\tsorted_population=population,\n",
    "\t\tfilter_criteria=1\n",
    "\t)\n",
    "\n",
    "\n",
    "\n",
    "\tparents = _4.collect_parents(\n",
    "\t\tsorted_population=population,\n",
    "\t\tcriteria=criteria,\n",
    "\t\tnum_parents=3\n",
    "\t)\n",
    "\n",
    "\n",
    "\tfamily = _5.reproduce(\n",
    "\t\tparents=parents,\n",
    "\t\tmode='exponential'\n",
    "\t)\n",
    "\n",
    "\n",
    "\tshuffled_family = _1.shuffle_population(\n",
    "\t\tpopulation=family\n",
    "\t)\n",
    "\n",
    "\n",
    "\t#print(f'parents: LEN={len(parents)}')\n",
    "\t#print(f'family: LEN={len(family)}')\n",
    "\n",
    "\n",
    "\tmutated_family = _6.mutation_round(\n",
    "\t\tshuffled_population=shuffled_family,\n",
    "\t\tpartial_mutation_prob=0.000,\n",
    "\t\tpattern_mutation_prob=0.000,\n",
    "\t\tfeat_idx_pool=fss\t\n",
    "\t)\n",
    "\n",
    "\n",
    "\tnew_population = _1.combine_populations(\n",
    "\t\tpopulations=[elites, mutated_family]\n",
    "\t)"
   ]
  },
  {
   "cell_type": "code",
   "execution_count": 93,
   "metadata": {},
   "outputs": [
    {
     "name": "stdout",
     "output_type": "stream",
     "text": [
      "diff_ma_5_240_spx[12] > diff_ma_5_15_spx[23]\n",
      "disp_hihi5_spx[24] < disp_hihi60_spx[21]\n",
      "disp_ma32_spx[24] > disp_ma50_spx[24]\n",
      "Profit Factor:\t1.0606\n",
      "Average Return:\t0.0002%\n",
      "Average KRatio:\t8510095.4792%\n"
     ]
    }
   ],
   "source": [
    "import _0_gene as _0\n",
    "import _9_utility as  util\n",
    "reload(_0)\n",
    "reload(util)\n",
    "reload(_2)\n",
    "\n",
    "_2.show_best_gene_patterns([population[6]],criteria,fssd)"
   ]
  },
  {
   "cell_type": "code",
   "execution_count": 57,
   "metadata": {},
   "outputs": [
    {
     "name": "stdout",
     "output_type": "stream",
     "text": [
      "vel26_spx[18] > vel6_spx[24]\n",
      "vol_m20_spx[11] < vol_m49_spx[29]\n",
      "ma140_spx[11] < ma160_spx[19]\n",
      "None\n",
      "12.085117289788325\n"
     ]
    }
   ],
   "source": [
    "print(unsorted_population[1].show_patterns(fssd))\n",
    "print(unsorted_population[1]._lastavg_kelsch_ratio)"
   ]
  }
 ],
 "metadata": {
  "kernelspec": {
   "display_name": ".tf_",
   "language": "python",
   "name": "python3"
  },
  "language_info": {
   "codemirror_mode": {
    "name": "ipython",
    "version": 3
   },
   "file_extension": ".py",
   "mimetype": "text/x-python",
   "name": "python",
   "nbconvert_exporter": "python",
   "pygments_lexer": "ipython3",
   "version": "3.12.3"
  }
 },
 "nbformat": 4,
 "nbformat_minor": 2
}
