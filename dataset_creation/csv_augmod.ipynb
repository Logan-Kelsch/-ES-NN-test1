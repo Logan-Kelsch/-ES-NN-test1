{
 "cells": [
  {
   "cell_type": "code",
   "execution_count": 1,
   "metadata": {},
   "outputs": [],
   "source": [
    "'''\n",
    "    the final version of this file should be able to fully clean and expand any csv file with over 60 samples in one execution\n",
    "'''\n",
    "\n",
    "import pandas as pd\n",
    "import numpy as np\n",
    "import _CSV_Augmod\n",
    "\n",
    "fIN_name = 'spx_five.csv'\n",
    "fOUT_name = 'spx_vhs.csv'\n",
    "\n",
    "\n",
    "full_set = _CSV_Augmod.augmod(\n",
    "    file_name_in=fIN_name, \n",
    "    file_name_out=fOUT_name,\n",
    "    format_mode='vhs'\n",
    ")\n"
   ]
  }
 ],
 "metadata": {
  "kernelspec": {
   "display_name": ".tf_",
   "language": "python",
   "name": "python3"
  },
  "language_info": {
   "codemirror_mode": {
    "name": "ipython",
    "version": 3
   },
   "file_extension": ".py",
   "mimetype": "text/x-python",
   "name": "python",
   "nbconvert_exporter": "python",
   "pygments_lexer": "ipython3",
   "version": "3.12.3"
  }
 },
 "nbformat": 4,
 "nbformat_minor": 2
}
