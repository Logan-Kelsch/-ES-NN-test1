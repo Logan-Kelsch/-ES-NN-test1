{
 "cells": [
  {
   "cell_type": "code",
   "execution_count": null,
   "metadata": {},
   "outputs": [],
   "source": [
    "'''\n",
    "    the final version of this file should be able to fully clean and expand any csv file with over 60 samples in one execution\n",
    "'''\n",
    "\n",
    "import pandas as pd\n",
    "import numpy as np\n",
    "\n",
    "#personal dataset expansion file\n",
    "import _Feature_Usage\n",
    "from importlib import reload\n",
    "reload(_Feature_Usage)\n",
    "\n",
    "fIN_name = 'spx_five.csv'\n",
    "\n",
    "#currently using polished dataset\n",
    "data = pd.read_csv(fIN_name)\n",
    "\n",
    "full_set = _Feature_Usage.augmod_dataset(data, index_names=['spx'],format_mode='live', target_isolate='sc')\n",
    "\n",
    "full_set.to_csv(\"spx_newest.csv\",index=False)\n"
   ]
  }
 ],
 "metadata": {
  "kernelspec": {
   "display_name": ".tf_",
   "language": "python",
   "name": "python3"
  },
  "language_info": {
   "codemirror_mode": {
    "name": "ipython",
    "version": 3
   },
   "file_extension": ".py",
   "mimetype": "text/x-python",
   "name": "python",
   "nbconvert_exporter": "python",
   "pygments_lexer": "ipython3",
   "version": "3.12.3"
  }
 },
 "nbformat": 4,
 "nbformat_minor": 2
}
