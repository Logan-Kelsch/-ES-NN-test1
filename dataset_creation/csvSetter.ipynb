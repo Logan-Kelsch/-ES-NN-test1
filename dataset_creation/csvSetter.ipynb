{
 "cells": [
  {
   "cell_type": "code",
   "execution_count": 2,
   "id": "89097e63",
   "metadata": {},
   "outputs": [
    {
     "name": "stdout",
     "output_type": "stream",
     "text": [
      "header written, lines read..\n",
      "file written..\n",
      "files closed.\n"
     ]
    }
   ],
   "source": [
    "import _ToS_CSV_Cleaner as toscsv\n",
    "\n",
    "toscsv.set_csv(\n",
    "    file_name_in='d13.csv',\n",
    "    file_name_out='d13_clean.csv'\n",
    ")"
   ]
  }
 ],
 "metadata": {
  "kernelspec": {
   "display_name": ".tf_",
   "language": "python",
   "name": "python3"
  },
  "language_info": {
   "codemirror_mode": {
    "name": "ipython",
    "version": 3
   },
   "file_extension": ".py",
   "mimetype": "text/x-python",
   "name": "python",
   "nbconvert_exporter": "python",
   "pygments_lexer": "ipython3",
   "version": "3.12.3"
  }
 },
 "nbformat": 4,
 "nbformat_minor": 5
}
