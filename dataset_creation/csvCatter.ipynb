{
 "cells": [
  {
   "cell_type": "code",
   "execution_count": 5,
   "metadata": {},
   "outputs": [],
   "source": [
    "import pandas as pd\n",
    "\n",
    "path = ''#'C:\\\\Users\\\\logan\\\\-ES-NN-test1\\\\CollectedData\\\\DATA_V4.0\\\\d'\n",
    "indices = ['d', 'q']\n",
    "set = '1'\n",
    "N1=path+indices[0]+set+'_clean.csv'\n",
    "N2=path+indices[1]+set+'_clean.csv'\n",
    "\n",
    "F1 = pd.read_csv(N1)\n",
    "F2 = pd.read_csv(N2)\n",
    "\n",
    "#removing samples that do not match\n",
    "F1 = F1[F1['time'].isin(F2['time'])].reset_index(drop=True)\n",
    "F2 = F2[F2['time'].isin(F1['time'])].reset_index(drop=True)\n",
    "\n",
    "#dropping duplicate time column\n",
    "F2 = F2.drop(columns=['time'])\n",
    "\n",
    "\n",
    "#catt = pd.read_csv('catted_1.csv')\n",
    "\n",
    "merged = pd.concat([F1,F2],axis=1)\n",
    "\n",
    "merged.to_csv('spx_ndx.csv',index=None)"
   ]
  },
  {
   "cell_type": "code",
   "execution_count": 9,
   "metadata": {},
   "outputs": [],
   "source": [
    "import pandas as pd\n",
    "\n",
    "name = 'pricearea_c.csv'\n",
    "\n",
    "DF_TMP = pd.read_csv(name)\n",
    "\n",
    "DF_TMP.columns = [col + '_spx' if 'hilo' in col else col for col in DF_TMP.columns]\n",
    "\n",
    "DF_TMP.to_csv(name, index=False)"
   ]
  },
  {
   "cell_type": "code",
   "execution_count": 12,
   "metadata": {},
   "outputs": [],
   "source": [
    "import pandas as pd\n",
    "\n",
    "name = 'pricearea_test.csv'\n",
    "\n",
    "DF_TMP = pd.read_csv(name)\n",
    "\n",
    "#\t\t\t\t\t\t\t\t\t\t\t\t\t^ ensures looking at front of string\n",
    "DF_TMP = DF_TMP.loc[:, ~DF_TMP.columns.str.contains('^Unnamed')]\n",
    "\n",
    "DF_TMP.to_csv(name, index=False)"
   ]
  }
 ],
 "metadata": {
  "kernelspec": {
   "display_name": ".tf_",
   "language": "python",
   "name": "python3"
  },
  "language_info": {
   "codemirror_mode": {
    "name": "ipython",
    "version": 3
   },
   "file_extension": ".py",
   "mimetype": "text/x-python",
   "name": "python",
   "nbconvert_exporter": "python",
   "pygments_lexer": "ipython3",
   "version": "3.12.3"
  }
 },
 "nbformat": 4,
 "nbformat_minor": 2
}
