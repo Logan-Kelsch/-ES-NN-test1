{
 "cells": [
  {
   "cell_type": "code",
   "execution_count": null,
   "id": "7b2cb17f",
   "metadata": {},
   "outputs": [
    {
     "name": "stdout",
     "output_type": "stream",
     "text": [
      "Collecting imageio\n",
      "  Using cached imageio-2.37.0-py3-none-any.whl.metadata (5.2 kB)\n",
      "Requirement already satisfied: numpy in /home/logankelsch/ES/-ES-NN-test1/.tf_/lib/python3.12/site-packages (from imageio) (2.0.2)\n",
      "Requirement already satisfied: pillow>=8.3.2 in /home/logankelsch/ES/-ES-NN-test1/.tf_/lib/python3.12/site-packages (from imageio) (11.0.0)\n",
      "Using cached imageio-2.37.0-py3-none-any.whl (315 kB)\n",
      "Installing collected packages: imageio\n",
      "Successfully installed imageio-2.37.0\n"
     ]
    }
   ],
   "source": [
    "#import sys\n",
    "#!{sys.executable} -m pip install imageio\n",
    "#sys.executable"
   ]
  },
  {
   "cell_type": "code",
   "execution_count": 2,
   "id": "f8ccb814",
   "metadata": {},
   "outputs": [],
   "source": [
    "#%matplotlib widgets"
   ]
  },
  {
   "cell_type": "code",
   "execution_count": 1,
   "id": "78dfed00",
   "metadata": {},
   "outputs": [],
   "source": [
    "import main as m\n",
    "import pandas as pd\n",
    "\n",
    "\n",
    "\n",
    "dataset = pd.read_csv('spx_vhs.csv')\n",
    "data = dataset.values\n",
    "\n",
    "state_arr = m.build_state_array(\n",
    "    data=data,\n",
    "    fss_mode='beta_vhs',\n",
    "    mode='3ma60to12'\n",
    ")\n",
    "\n",
    "prob_mat = m.build_transition_matrix(\n",
    "    trans_length=1,\n",
    "    arr_states=state_arr\n",
    ")"
   ]
  },
  {
   "cell_type": "code",
   "execution_count": 2,
   "id": "0c89b606",
   "metadata": {},
   "outputs": [
    {
     "data": {
      "application/vnd.jupyter.widget-view+json": {
       "model_id": "b570418ed304430096e4251f2511e330",
       "version_major": 2,
       "version_minor": 0
      },
      "text/plain": [
       "HBox(children=(VBox(children=(Button(description='↑ Up', layout=Layout(width='80px'), style=ButtonStyle()), Bu…"
      ]
     },
     "metadata": {},
     "output_type": "display_data"
    },
    {
     "data": {
      "application/vnd.jupyter.widget-view+json": {
       "model_id": "a5b5c69e9614462b9a4f2a1359c2fa60",
       "version_major": 2,
       "version_minor": 0
      },
      "text/plain": [
       "Output()"
      ]
     },
     "metadata": {},
     "output_type": "display_data"
    }
   ],
   "source": [
    "import numpy as np\n",
    "import matplotlib.pyplot as plt\n",
    "import ipywidgets as widgets\n",
    "from IPython.display import display, clear_output\n",
    "\n",
    "# Size of your 2D heatmap grid\n",
    "n_rows, n_cols = 60, 1\n",
    "heatmaps = [[\n",
    "    m.build_transition_matrix(\n",
    "    trans_length=_,\n",
    "    arr_states=state_arr,\n",
    "    #col_filter='evens',\n",
    "    #dir_norm='row'\n",
    ")\n",
    " for __ in range(n_cols)] for _ in range(n_rows)]\n",
    "\n",
    "# Track position\n",
    "pos = {'row': 0, 'col': 0}\n",
    "\n",
    "# Output widget for the plot\n",
    "output = widgets.Output()\n",
    "\n",
    "def plot_current_heatmap():\n",
    "    with output:\n",
    "        clear_output(wait=True)\n",
    "        r, c = pos['row'], pos['col']\n",
    "        plt.imshow(heatmaps[r][c], cmap='viridis')\n",
    "        plt.title(f\"Heatmap at [{r+1}, {c+1}]\")\n",
    "        plt.colorbar()\n",
    "        plt.show()\n",
    "\n",
    "def move_up(b):\n",
    "    if pos['row'] > 0:\n",
    "        pos['row'] -= 1\n",
    "        plot_current_heatmap()\n",
    "\n",
    "def move_down(b):\n",
    "    if pos['row'] < n_rows - 1:\n",
    "        pos['row'] += 1\n",
    "        plot_current_heatmap()\n",
    "\n",
    "def move_left(b):\n",
    "    if pos['col'] > 0:\n",
    "        pos['col'] -= 1\n",
    "        plot_current_heatmap()\n",
    "\n",
    "def move_right(b):\n",
    "    if pos['col'] < n_cols - 1:\n",
    "        pos['col'] += 1\n",
    "        plot_current_heatmap()\n",
    "\n",
    "# Create navigation buttons\n",
    "up_btn = widgets.Button(description='↑ Up', layout=widgets.Layout(width='80px'))\n",
    "down_btn = widgets.Button(description='↓ Down', layout=widgets.Layout(width='80px'))\n",
    "left_btn = widgets.Button(description='← Left', layout=widgets.Layout(width='80px'))\n",
    "right_btn = widgets.Button(description='→ Right', layout=widgets.Layout(width='80px'))\n",
    "\n",
    "# Link buttons to functions\n",
    "up_btn.on_click(move_up)\n",
    "down_btn.on_click(move_down)\n",
    "left_btn.on_click(move_left)\n",
    "right_btn.on_click(move_right)\n",
    "\n",
    "# Layout\n",
    "controls = widgets.HBox([\n",
    "    widgets.VBox([up_btn, down_btn]),\n",
    "    widgets.VBox([left_btn, right_btn])\n",
    "])\n",
    "\n",
    "# Display everything\n",
    "plot_current_heatmap()\n",
    "display(controls, output)\n"
   ]
  },
  {
   "cell_type": "code",
   "execution_count": 19,
   "id": "5777458b",
   "metadata": {},
   "outputs": [
    {
     "name": "stdout",
     "output_type": "stream",
     "text": [
      "[0.24304539 0.03367496 0.13128355 0.01317716 0.05075647 0.00488043\n",
      " 0.01073694 0.00195217 0.10785749 0.02244998 0.34114202 0.03904344]\n"
     ]
    }
   ],
   "source": [
    "print(heatmaps[44][0][5,:])"
   ]
  },
  {
   "cell_type": "code",
   "execution_count": 5,
   "id": "7c3a31b8",
   "metadata": {},
   "outputs": [],
   "source": [
    "import matplotlib.pyplot as plt\n",
    "import numpy as np\n",
    "import imageio.v2 as imageio\n",
    "import io\n",
    "\n",
    "conf_matrices = heatmaps  # list of same‑shape 2D arrays, e.g. all (27,27)\n",
    "\n",
    "images = []\n",
    "for i, cm in enumerate(conf_matrices):\n",
    "    cm = np.squeeze(cm)\n",
    "    if cm.ndim != 2:\n",
    "        raise ValueError(f\"Expected 2D, got {cm.shape}\")\n",
    "\n",
    "    # fixed size + DPI\n",
    "    fig, ax = plt.subplots(figsize=(5,5), dpi=100)\n",
    "    cax = ax.matshow(cm, cmap='Blues')\n",
    "    fig.colorbar(cax, ax=ax)\n",
    "\n",
    "    ax.set_title(f'trans_length: {i}')\n",
    "    ax.set_xlabel('Next State')\n",
    "    ax.set_ylabel('crnt State')\n",
    "\n",
    "    buf = io.BytesIO()\n",
    "    # no bbox_inches – this keeps the canvas exactly 500×500 pixels\n",
    "    plt.savefig(buf, format='png', dpi=100)\n",
    "    buf.seek(0)\n",
    "    images.append(imageio.imread(buf))\n",
    "    plt.close(fig)\n",
    "\n",
    "# now all images[i].shape == (500, 500, 3)\n",
    "imageio.mimsave('confusion_matrices.gif', images, duration=0.1, loop=0)\n"
   ]
  }
 ],
 "metadata": {
  "kernelspec": {
   "display_name": ".tf_",
   "language": "python",
   "name": "python3"
  },
  "language_info": {
   "codemirror_mode": {
    "name": "ipython",
    "version": 3
   },
   "file_extension": ".py",
   "mimetype": "text/x-python",
   "name": "python",
   "nbconvert_exporter": "python",
   "pygments_lexer": "ipython3",
   "version": "3.12.3"
  }
 },
 "nbformat": 4,
 "nbformat_minor": 5
}
