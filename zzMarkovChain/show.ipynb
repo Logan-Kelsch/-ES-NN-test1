{
 "cells": [
  {
   "cell_type": "code",
   "execution_count": 5,
   "id": "7b2cb17f",
   "metadata": {},
   "outputs": [],
   "source": [
    "#import sys\n",
    "#!{sys.executable} -m pip install ipympl"
   ]
  },
  {
   "cell_type": "code",
   "execution_count": 7,
   "id": "f8ccb814",
   "metadata": {},
   "outputs": [],
   "source": [
    "#%matplotlib widgets"
   ]
  },
  {
   "cell_type": "code",
   "execution_count": 8,
   "id": "0c89b606",
   "metadata": {},
   "outputs": [
    {
     "data": {
      "application/vnd.jupyter.widget-view+json": {
       "model_id": "a0abad69c8d64f7fa8bd2af7d0f71416",
       "version_major": 2,
       "version_minor": 0
      },
      "text/plain": [
       "HBox(children=(VBox(children=(Button(description='↑ Up', layout=Layout(width='80px'), style=ButtonStyle()), Bu…"
      ]
     },
     "metadata": {},
     "output_type": "display_data"
    },
    {
     "data": {
      "application/vnd.jupyter.widget-view+json": {
       "model_id": "104a3738dba34d2a8f9043852eca708e",
       "version_major": 2,
       "version_minor": 0
      },
      "text/plain": [
       "Output()"
      ]
     },
     "metadata": {},
     "output_type": "display_data"
    }
   ],
   "source": [
    "import numpy as np\n",
    "import matplotlib.pyplot as plt\n",
    "import ipywidgets as widgets\n",
    "from IPython.display import display, clear_output\n",
    "\n",
    "# Size of your 2D heatmap grid\n",
    "n_rows, n_cols = 4, 4\n",
    "heatmaps = [[np.random.rand(10, 10) for _ in range(n_cols)] for _ in range(n_rows)]\n",
    "\n",
    "# Track position\n",
    "pos = {'row': 0, 'col': 0}\n",
    "\n",
    "# Output widget for the plot\n",
    "output = widgets.Output()\n",
    "\n",
    "def plot_current_heatmap():\n",
    "    with output:\n",
    "        clear_output(wait=True)\n",
    "        r, c = pos['row'], pos['col']\n",
    "        plt.imshow(heatmaps[r][c], cmap='viridis')\n",
    "        plt.title(f\"Heatmap at [{r+1}, {c+1}]\")\n",
    "        plt.colorbar()\n",
    "        plt.show()\n",
    "\n",
    "def move_up(b):\n",
    "    if pos['row'] > 0:\n",
    "        pos['row'] -= 1\n",
    "        plot_current_heatmap()\n",
    "\n",
    "def move_down(b):\n",
    "    if pos['row'] < n_rows - 1:\n",
    "        pos['row'] += 1\n",
    "        plot_current_heatmap()\n",
    "\n",
    "def move_left(b):\n",
    "    if pos['col'] > 0:\n",
    "        pos['col'] -= 1\n",
    "        plot_current_heatmap()\n",
    "\n",
    "def move_right(b):\n",
    "    if pos['col'] < n_cols - 1:\n",
    "        pos['col'] += 1\n",
    "        plot_current_heatmap()\n",
    "\n",
    "# Create navigation buttons\n",
    "up_btn = widgets.Button(description='↑ Up', layout=widgets.Layout(width='80px'))\n",
    "down_btn = widgets.Button(description='↓ Down', layout=widgets.Layout(width='80px'))\n",
    "left_btn = widgets.Button(description='← Left', layout=widgets.Layout(width='80px'))\n",
    "right_btn = widgets.Button(description='→ Right', layout=widgets.Layout(width='80px'))\n",
    "\n",
    "# Link buttons to functions\n",
    "up_btn.on_click(move_up)\n",
    "down_btn.on_click(move_down)\n",
    "left_btn.on_click(move_left)\n",
    "right_btn.on_click(move_right)\n",
    "\n",
    "# Layout\n",
    "controls = widgets.HBox([\n",
    "    widgets.VBox([up_btn, down_btn]),\n",
    "    widgets.VBox([left_btn, right_btn])\n",
    "])\n",
    "\n",
    "# Display everything\n",
    "plot_current_heatmap()\n",
    "display(controls, output)\n"
   ]
  }
 ],
 "metadata": {
  "language_info": {
   "name": "python"
  }
 },
 "nbformat": 4,
 "nbformat_minor": 5
}
