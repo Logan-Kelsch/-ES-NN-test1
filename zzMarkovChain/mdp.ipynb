{
 "cells": [
  {
   "cell_type": "code",
   "execution_count": 1,
   "id": "f4f971d8",
   "metadata": {},
   "outputs": [
    {
     "name": "stdout",
     "output_type": "stream",
     "text": [
      "Optimal Value Function: [58.7961 65.329  67.0322]\n"
     ]
    }
   ],
   "source": [
    "import numpy as np\n",
    "import mdp as m\n",
    "\n",
    "P = np.array([\n",
    "        [0.0, 1.0, 0.0],  # from state 0, always go to 1\n",
    "        [0.0, 0.0, 1.0],  # from state 1, always go to 2\n",
    "        [0.3, 0.7, 0.0],  # from state 2, 30% to 0, 70% to 1\n",
    "])\n",
    "R_state = np.array([0.0, 5.0, 10.0])  # reward depends only on current state\n",
    "\n",
    "mdp = m.MDP(P, R_state, gamma=0.9)\n",
    "V_opt = m.value_iteration(mdp)\n",
    "print(\"Optimal Value Function:\", np.round(V_opt, 4))"
   ]
  }
 ],
 "metadata": {
  "kernelspec": {
   "display_name": ".tf_",
   "language": "python",
   "name": "python3"
  },
  "language_info": {
   "codemirror_mode": {
    "name": "ipython",
    "version": 3
   },
   "file_extension": ".py",
   "mimetype": "text/x-python",
   "name": "python",
   "nbconvert_exporter": "python",
   "pygments_lexer": "ipython3",
   "version": "3.12.3"
  }
 },
 "nbformat": 4,
 "nbformat_minor": 5
}
