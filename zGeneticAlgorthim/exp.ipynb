{
 "cells": [
  {
   "cell_type": "code",
   "execution_count": null,
   "metadata": {},
   "outputs": [],
   "source": [
    "import numpy as np\n",
    "import pandas as pd\n",
    "\n",
    "data = pd.read_csv('../RotationalEnsemble/spx_test.csv')"
   ]
  },
  {
   "cell_type": "markdown",
   "metadata": {},
   "source": [
    "steps of a genetic algorithm:\n",
    "\n",
    "initialization\n",
    "evaluation\n",
    "elitism\n",
    "parent selection\n",
    "reproduction\n",
    "mutation"
   ]
  },
  {
   "cell_type": "code",
   "execution_count": null,
   "metadata": {},
   "outputs": [],
   "source": [
    "#example for initiation and evaluation steps\n",
    "\n",
    "import _1_initialization as _1\n",
    "import _2_evaluation as _2\n",
    "import _3_elitism as _3\n",
    "\n",
    "population = _1.generate_initial_population(\n",
    "    sample_size=10,\n",
    "    pattern_size=1,\n",
    "    feat_idx_pool=[],#some fss\n",
    "    lag_allowance=10,\n",
    "    skew_lag_prob=False\n",
    ")\n",
    "\n",
    "returns, kelsch_ratio = _2.fitness(\n",
    "    data = None,\n",
    "    genes= population,\n",
    "    hold_for=10,\n",
    "    lag_allow=10,\n",
    "    specific_data='form_519'\n",
    ")\n",
    "\n",
    "population = _2.associate(\n",
    "    genes=population,\n",
    "    returns=returns,\n",
    "    kelsch_ratio=kelsch_ratio\n",
    ")\n",
    "\n",
    "population = _2.sort_population(\n",
    "    population=population,\n",
    "    criteria='profit_factor'\n",
    ")\n",
    "\n",
    "elites = _3.collect_elite(\n",
    "    sorted_population=population,\n",
    "    filter_criteria=1\n",
    ")"
   ]
  }
 ],
 "metadata": {
  "kernelspec": {
   "display_name": ".venv",
   "language": "python",
   "name": "python3"
  },
  "language_info": {
   "codemirror_mode": {
    "name": "ipython",
    "version": 3
   },
   "file_extension": ".py",
   "mimetype": "text/x-python",
   "name": "python",
   "nbconvert_exporter": "python",
   "pygments_lexer": "ipython3",
   "version": "3.12.3"
  }
 },
 "nbformat": 4,
 "nbformat_minor": 2
}
