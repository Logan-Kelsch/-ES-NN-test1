{
 "cells": [
  {
   "cell_type": "code",
   "execution_count": null,
   "metadata": {},
   "outputs": [],
   "source": [
    "import _One_Step\n",
    "\n",
    "_One_Step.e2e_predict(\n",
    "\tmaster_names=['pre63p2-645-800','models/m55','models/m60','models/m50']\n",
    "\t,csv_type='dirty'\n",
    "\t,dirty_file_name='live/dirty.csv'\n",
    "\t,overwrite_mode=True\n",
    "\t,scaler_path='live/scaler.joblib'\n",
    "\t,visual_window=(730, 900)\n",
    "    ,chronos_fusion_kwargs={\n",
    "        'vote_var':3\n",
    "\t}\n",
    "    ,strategy='00'\n",
    "    ,clip_stochastic=False\n",
    ")"
   ]
  }
 ],
 "metadata": {
  "kernelspec": {
   "display_name": ".tf_",
   "language": "python",
   "name": "python3"
  },
  "language_info": {
   "codemirror_mode": {
    "name": "ipython",
    "version": 3
   },
   "file_extension": ".py",
   "mimetype": "text/x-python",
   "name": "python",
   "nbconvert_exporter": "python",
   "pygments_lexer": "ipython3",
   "version": "3.12.3"
  }
 },
 "nbformat": 4,
 "nbformat_minor": 2
}
