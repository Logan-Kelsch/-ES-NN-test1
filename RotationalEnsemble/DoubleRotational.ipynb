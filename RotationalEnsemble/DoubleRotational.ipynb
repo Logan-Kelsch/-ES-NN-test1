{
 "cells": [
  {
   "cell_type": "markdown",
   "metadata": {},
   "source": [
    "### This file will use the Rotational Forest Classifier from the Aeon library"
   ]
  },
  {
   "cell_type": "code",
   "execution_count": 1,
   "metadata": {},
   "outputs": [
    {
     "name": "stdout",
     "output_type": "stream",
     "text": [
      "# of Features:\t436\n",
      "Target:\t\t\ttc_2c_15m\n",
      "\n",
      "(24943, 436)\n",
      "201633 Samples Dropped.\n",
      "\n",
      "\n",
      "X_train shape == (19954, 436).\n",
      "y_train shape == (19954,).\n",
      "X_val shape == (3741, 436).\n",
      "y_val shape == (3741,).\n",
      "X_ind shape == (1248, 436).\n",
      "y_ind shape == (1248,).\n",
      "\n"
     ]
    }
   ],
   "source": [
    "from _Data_Processing import *\n",
    "\n",
    "'''\n",
    "this function returns 7 objects:\n",
    "    data: sets of data as X_train, X_val, X_ind, y_train, y_val, y_ind\n",
    "    feature_list: list of all feature names with a column index (dict)\n",
    "'''\n",
    "X_train, X_val, X_ind,\\\n",
    "y_train, y_val, y_ind,\\\n",
    "feature_list =\\\n",
    "preprocess_data(\n",
    "    file_name   =\t\t'betaset_tmp.csv'\n",
    "    ,indp_size  =\t\t0.05\n",
    "    ,test_size  =\t\t0.15\n",
    "    ,shfl_splt\t=\t\tFalse\n",
    "    ,t_start    =\t\t570\n",
    "    ,t_end\t\t=\t\t720\n",
    "    ,mod_type\t=\t\t'Classification'\n",
    "    ,target_t\t=\t\t15\n",
    "    ,num_class\t=\t\t2\n",
    "    ,split_val\t=\t\t5\n",
    "    ,verbose\t=\t\t1\n",
    "    ,scaler\t\t=\t\t'Standard'\n",
    "    ,frmt_lstm\t=\t\tFalse\n",
    "    ,time_steps =\t\t5\n",
    ")"
   ]
  },
  {
   "cell_type": "code",
   "execution_count": null,
   "metadata": {},
   "outputs": [],
   "source": []
  }
 ],
 "metadata": {
  "kernelspec": {
   "display_name": ".torch_",
   "language": "python",
   "name": "python3"
  },
  "language_info": {
   "codemirror_mode": {
    "name": "ipython",
    "version": 3
   },
   "file_extension": ".py",
   "mimetype": "text/x-python",
   "name": "python",
   "nbconvert_exporter": "python",
   "pygments_lexer": "ipython3",
   "version": "3.12.3"
  }
 },
 "nbformat": 4,
 "nbformat_minor": 2
}
