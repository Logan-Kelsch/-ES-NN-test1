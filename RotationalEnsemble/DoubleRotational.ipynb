{
 "cells": [
  {
   "cell_type": "markdown",
   "metadata": {},
   "source": [
    "### This file will use the Rotational Forest Classifier from the Aeon library"
   ]
  },
  {
   "cell_type": "code",
   "execution_count": 11,
   "metadata": {},
   "outputs": [
    {
     "name": "stdout",
     "output_type": "stream",
     "text": [
      "Trying to load CSV file into DataFrame...Success.\n",
      "Trying to drop unused targets...Success.\n",
      "Trying to collect indices of wanted times...Success.\n",
      "Trying to drop price features...Success...\n",
      "\n",
      "# of Samples:\t226576\n",
      "\n",
      "# of Features:\t436\n",
      "\n",
      "Target:\t\ttc_2c_15m\n",
      "\n",
      "Trying to split DataFrame into X and y...Success.\n",
      "Trying to collect all feature names and indices...Success.\n",
      "Trying to clean up...Success.\n",
      "Trying to encode y and make class weights...Failed [NON-FATAL: NOT IMPLEMENTED]\n",
      "Trying to standardize all featurespace from training featurespace...Success.\n",
      "Trying to drop unwanted time-range samples...Success.\n",
      "\t201633 Samples Dropped.\n",
      "\n",
      "Trying to split X and y into Train/Validation/Independent...Success.\n",
      "Trying to clean up...Success.\n",
      "X_train:\t(19704, 436).\n",
      "y_train:\t(19704,).\n",
      "X_val:  \t(4989, 436).\n",
      "y_val:  \t(4989,).\n",
      "X_ind:  \t(250, 436).\n",
      "y_ind:  \t(250,).\n",
      "Collecting garbage...Success.\n",
      "Terminating.\n"
     ]
    }
   ],
   "source": [
    "from _Data_Processing import *\n",
    "\n",
    "'''\n",
    "this function returns 7 objects:\n",
    "\tdata: sets of data as X_train, X_val, X_ind, y_train, y_val, y_ind\n",
    "\tfeature_list: list of all feature names with a column index (dict)\n",
    "'''\n",
    "X_train, X_val, X_ind,\\\n",
    "y_train, y_val, y_ind,\\\n",
    "feature_subsets =\\\n",
    "preprocess_data(\n",
    "\tfile_name   =\t\t'betaset_tmp.csv'\n",
    "\t,indp_size  =\t\t0.01\n",
    "\t,test_size  =\t\t0.20\n",
    "\t,shfl_splt\t=\t\tFalse\n",
    "\t,t_start    =\t\t570\n",
    "\t,t_end\t\t=\t\t720\n",
    "\t,mod_type\t=\t\t'Classification'\n",
    "\t,target_t\t=\t\t15\n",
    "\t,num_class\t=\t\t2\n",
    "\t,split_val\t=\t\t5\n",
    "\t,verbose\t=\t\t1\n",
    "\t,scaler\t\t=\t\t'Standard'\n",
    "\t,frmt_lstm\t=\t\tFalse\n",
    "\t,time_steps =\t\t5\n",
    "\t,keep_price =\t\tFalse\n",
    ")"
   ]
  },
  {
   "cell_type": "code",
   "execution_count": 12,
   "metadata": {},
   "outputs": [
    {
     "data": {
      "text/plain": [
       "'\\nall partitions\\n\\tX_train_parts\\nall sample partitions of THE featurespace partition i\\n\\tX_train_parts[i]\\nThe single partition of THE samplespace partition j of THE featurespace partition i\\n\\tX_train_parts[i][j] -- -- -- This is now a set of trainable data\\n'"
      ]
     },
     "execution_count": 12,
     "metadata": {},
     "output_type": "execute_result"
    }
   ],
   "source": [
    "from _Data_Rotating import *\n",
    "\n",
    "'''\n",
    "This function returns 4 items.\n",
    "-\t2D array of X partitions, by featurespace and samplespace\n",
    "-\t1D array of index-lists for each featurespace-partition specific features\n",
    "-\t1D array of featurespace-partition specific rotation transformer functions\n",
    "-\t1D array of y partitions for each samplespace partition.\n",
    "'''\n",
    "\n",
    "X_train_parts, X_find_parts, X_trans_parts, y_parts = rotate_partitions(\n",
    "\tX\t\t\t\t=\tX_train\n",
    "    ,y\t\t\t\t=\ty_train\n",
    "\t,n_feat_parts\t=\t3\n",
    "\t,feat_subsets\t=\tfeature_subsets\n",
    "\t,feat_part_type\t=\t'by_subset'\n",
    "\t,fraction_feats\t=\t0.8\n",
    "\t,no_feat_overlap=\tFalse\n",
    "\t,feats_for_all\t=\t[]\n",
    "\t,rotation_type\t=\t'None'\n",
    "\t,rotation_filter=\tFalse\n",
    "\t,filter_type\t=\t'Retention'\n",
    "\t,filter_value\t=\t1.0\n",
    "    ,n_sample_parts\t=\t2\n",
    "    ,smpl_part_type\t=\t'Even'\n",
    "    ,sample_shuffle\t=\tFalse\n",
    ")\n",
    "\n",
    "'''\n",
    "all partitions\n",
    "\tX_train_parts\n",
    "all sample partitions of THE featurespace partition i\n",
    "\tX_train_parts[i]\n",
    "The single partition of THE samplespace partition j of THE featurespace partition i\n",
    "\tX_train_parts[i][j] -- -- -- This is now a set of trainable data\n",
    "'''"
   ]
  },
  {
   "cell_type": "code",
   "execution_count": 13,
   "metadata": {},
   "outputs": [
    {
     "name": "stdout",
     "output_type": "stream",
     "text": [
      "\t   'decision_tree'\n",
      "\t   'dt'\n",
      "\t\t-\t-\tSci-Kit Learn DecisionTreeClassifier\n",
      "\t\t-\t-\t{'criterion': 'gini', 'max_depth': 8, 'min_samples_split': 2, 'min_samples_leaf': 1}\n",
      "\t   \n",
      "\t   'rotation_forest'\n",
      "\t   'aeon_rf'\n",
      "\t\t   -\t-\tAEON Rotation Forest\n",
      "\t\t-\t-\t{'base_estimator': DecisionTreeClassifier(max_depth=4), 'n_estimators': 4, 'min_group': 1, 'max_group': 20, 'remove_proportion': 0.3, 'n_jobs': -1}\n",
      "\t   \n",
      "\t   \n"
     ]
    }
   ],
   "source": [
    "from _Modelset_Training import *\n",
    "\n",
    "show_available_model_types()"
   ]
  },
  {
   "cell_type": "code",
   "execution_count": 14,
   "metadata": {},
   "outputs": [
    {
     "name": "stdout",
     "output_type": "stream",
     "text": [
      "Default parameters selected.\n",
      "dt\t-\t{'criterion': 'gini', 'max_depth': 8, 'min_samples_split': 2, 'min_samples_leaf': 1}\n"
     ]
    }
   ],
   "source": [
    "from _Modelset_Training import *\n",
    "\n",
    "'''\n",
    "Function returns a 3D list of trained models that are fit to the resepective dataset.\n",
    "\tDim1:\tFeaturespace, here are the subsetctions/partitions for each unique set of features\n",
    "    Dim2:\tSamplespace, here are the subsetctions/partitions for each unique set of samples\n",
    "    Dim3:\tModelspace, here are the individual models trained on a unique partition\n",
    "'''\n",
    "\n",
    "models = train_models(\n",
    "    model_types=['dt']\n",
    "    ,data_parts=X_train_parts\n",
    "    ,trgt_parts=y_parts\n",
    "    ,param_mode='default'\n",
    "    ,cst_mod_prm=None\n",
    "    ,tnr_verbose=True\n",
    ")"
   ]
  },
  {
   "cell_type": "code",
   "execution_count": 4,
   "metadata": {},
   "outputs": [],
   "source": [
    "\n"
   ]
  },
  {
   "cell_type": "code",
   "execution_count": 15,
   "metadata": {},
   "outputs": [
    {
     "name": "stderr",
     "output_type": "stream",
     "text": [
      "/home/logankelsch/ES/-ES-NN-test1/.torch_/lib/python3.12/site-packages/numpy/lib/_function_base_impl.py:557: RuntimeWarning: Mean of empty slice.\n",
      "  avg = a.mean(axis, **keepdims_kw)\n",
      "/home/logankelsch/ES/-ES-NN-test1/.torch_/lib/python3.12/site-packages/numpy/_core/_methods.py:138: RuntimeWarning: invalid value encountered in scalar divide\n",
      "  ret = ret.dtype.type(ret / rcount)\n",
      "/home/logankelsch/ES/-ES-NN-test1/.torch_/lib/python3.12/site-packages/sklearn/metrics/_classification.py:1531: UndefinedMetricWarning: Precision is ill-defined and being set to 0.0 due to no predicted samples. Use `zero_division` parameter to control this behavior.\n",
      "  _warn_prf(average, modifier, f\"{metric.capitalize()} is\", len(result))\n",
      "/home/logankelsch/ES/-ES-NN-test1/.torch_/lib/python3.12/site-packages/sklearn/metrics/_classification.py:1531: UndefinedMetricWarning: Recall is ill-defined and being set to 0.0 due to no true samples. Use `zero_division` parameter to control this behavior.\n",
      "  _warn_prf(average, modifier, f\"{metric.capitalize()} is\", len(result))\n"
     ]
    },
    {
     "name": "stdout",
     "output_type": "stream",
     "text": [
      "Dimensions of Trained Models:\n",
      "\tFeature Space: 3\n",
      "\tSample Space: 2\n",
      "\tModel Space: 1\n",
      "\n",
      "\n",
      "\tDisplaying all performance for all 'unseen' training samples: (6 cases)\n",
      "\n",
      "\n",
      "Statistics Overall:\n",
      "\n",
      "\tSplit 0:\n",
      "\t\t\t\t\tAverage\tStd.Dv.\tLow\t\tHigh\n",
      "\t\tAccuracy\tnan\tnan\tnan\tnan\n",
      "\t\tPrecision\t0.45395805168627096\t0.20557492007493078\t0.0\t0.6077343421605717\n",
      "\t\tRecall\t\t0.5191917335867066\t0.2514381245788736\t0.0\t0.7544271082607447\n",
      "\n",
      "Statistics By Feature Space:\n",
      "\n",
      "\tSplit 0:\n",
      "\t\t\t\t\tAverage\tStd.Dv.\tLow\t\tHigh\n",
      "\t\tAccuracy\t0.504237718229801\t0.018701786439301704\t0.48553593179049936\t0.5229395046691028\n",
      "\t\tPrecision\t0.529290672231659\t0.02545945568920066\t0.5038312165424583\t0.5547501279208596\n",
      "\t\tRecall\t\t0.5394908439065657\t0.06936351775573313\t0.4701273261508325\t0.6088543616622988\n",
      "\tSplit 1:\n",
      "\t\t\t\t\tAverage\tStd.Dv.\tLow\t\tHigh\n",
      "\t\tAccuracy\tnan\tnan\tnan\tnan\n",
      "\t\tPrecision\t0.2658268407028905\t0.2658268407028905\t0.0\t0.531653681405781\n",
      "\t\tRecall\t\t0.37721355413037233\t0.37721355413037233\t0.0\t0.7544271082607447\n",
      "\tSplit 2:\n",
      "\t\t\t\t\tAverage\tStd.Dv.\tLow\t\tHigh\n",
      "\t\tAccuracy\t0.54301664636622\t0.03325213154689399\t0.509764514819326\t0.576268777913114\n",
      "\t\tPrecision\t0.5667566421242634\t0.04097770003630835\t0.525778942087955\t0.6077343421605717\n",
      "\t\tRecall\t\t0.6408708027231816\t0.08477249124966346\t0.5560983114735182\t0.7256432939728451\n",
      "\n",
      "Statistics By Sample Space:\n",
      "\n",
      "\tSplit 0:\n",
      "\t\t\t\t\tAverage\tStd.Dv.\tLow\t\tHigh\n",
      "\t\tAccuracy\t0.5042444850453376\t0.013594335158437236\t0.48553593179049936\t0.5174330085261876\n",
      "\t\tPrecision\t0.5204212800120648\t0.011973604162414357\t0.5038312165424583\t0.531653681405781\n",
      "\t\tRecall\t\t0.6500659094614741\t0.12777727318559848\t0.4701273261508325\t0.7544271082607447\n",
      "\tSplit 1:\n",
      "\t\t\t\t\tAverage\tStd.Dv.\tLow\t\tHigh\n",
      "\t\tAccuracy\tnan\tnan\tnan\tnan\n",
      "\t\tPrecision\t0.3874948233604771\t0.27485270035423875\t0.0\t0.6077343421605717\n",
      "\t\tRecall\t\t0.38831755771193893\t0.2754253612486259\t0.0\t0.6088543616622988\n",
      "\n",
      "Statistics By Model Space:\n",
      "\n",
      "\tSplit 0:\n",
      "\t\t\t\t\tAverage\tStd.Dv.\tLow\t\tHigh\n",
      "\t\tAccuracy\tnan\tnan\tnan\tnan\n",
      "\t\tPrecision\t0.45395805168627096\t0.20557492007493078\t0.0\t0.6077343421605717\n",
      "\t\tRecall\t\t0.5191917335867066\t0.2514381245788736\t0.0\t0.7544271082607447\n",
      "\n",
      "Statistics TITLE ERROR SET CASE IS NOT IMPLEMENTED:\n",
      "\n",
      "\tSplit 0:\n",
      "\t\t\t\t\tAverage\tStd.Dv.\tLow\t\tHigh\n",
      "\t\tAccuracy\tnan\tnan\tnan\tnan\n",
      "\t\tPrecision\t0.45395805168627096\t0.20557492007493078\t0.0\t0.6077343421605717\n",
      "\t\tRecall\t\t0.5191917335867066\t0.2514381245788736\t0.0\t0.7544271082607447\n"
     ]
    },
    {
     "ename": "IndexError",
     "evalue": "list index out of range",
     "output_type": "error",
     "traceback": [
      "\u001b[0;31m---------------------------------------------------------------------------\u001b[0m",
      "\u001b[0;31mIndexError\u001b[0m                                Traceback (most recent call last)",
      "Cell \u001b[0;32mIn[15], line 3\u001b[0m\n\u001b[1;32m      1\u001b[0m \u001b[38;5;28;01mfrom\u001b[39;00m \u001b[38;5;21;01m_Model_Evaluation\u001b[39;00m \u001b[38;5;28;01mimport\u001b[39;00m \u001b[38;5;241m*\u001b[39m\n\u001b[0;32m----> 3\u001b[0m \u001b[43mevaluate_models\u001b[49m\u001b[43m(\u001b[49m\n\u001b[1;32m      4\u001b[0m \u001b[43m\t\t\u001b[49m\u001b[43mmodels\u001b[49m\u001b[38;5;241;43m=\u001b[39;49m\u001b[43mmodels\u001b[49m\n\u001b[1;32m      5\u001b[0m \u001b[43m\t\t\u001b[49m\u001b[43m,\u001b[49m\u001b[43mX_findx\u001b[49m\u001b[38;5;241;43m=\u001b[39;49m\u001b[43mX_find_parts\u001b[49m\n\u001b[1;32m      6\u001b[0m \u001b[43m\t\t\u001b[49m\u001b[43m,\u001b[49m\u001b[43mX_trans\u001b[49m\u001b[38;5;241;43m=\u001b[39;49m\u001b[43mX_trans_parts\u001b[49m\n\u001b[1;32m      7\u001b[0m \u001b[43m\t\t\u001b[49m\u001b[43m,\u001b[49m\u001b[43mX_train\u001b[49m\u001b[38;5;241;43m=\u001b[39;49m\u001b[43mX_train_parts\u001b[49m\n\u001b[1;32m      8\u001b[0m \u001b[43m\t\t\u001b[49m\u001b[43m,\u001b[49m\u001b[43my_train\u001b[49m\u001b[38;5;241;43m=\u001b[39;49m\u001b[43my_parts\u001b[49m\n\u001b[1;32m      9\u001b[0m \u001b[43m\t\t\u001b[49m\u001b[43m,\u001b[49m\u001b[43mX_test\u001b[49m\u001b[38;5;241;43m=\u001b[39;49m\u001b[43mX_val\u001b[49m\n\u001b[1;32m     10\u001b[0m \u001b[43m\t\t\u001b[49m\u001b[43m,\u001b[49m\u001b[43my_test\u001b[49m\u001b[38;5;241;43m=\u001b[39;49m\u001b[43my_val\u001b[49m\n\u001b[1;32m     11\u001b[0m \u001b[43m\t\t\u001b[49m\u001b[43m,\u001b[49m\u001b[43mprfm_gnrl\u001b[49m\u001b[43m\t\u001b[49m\u001b[38;5;241;43m=\u001b[39;49m\u001b[43m\t\u001b[49m\u001b[38;5;124;43m'\u001b[39;49m\u001b[38;5;124;43mall\u001b[39;49m\u001b[38;5;124;43m'\u001b[39;49m\n\u001b[1;32m     12\u001b[0m \u001b[43m\t\t\u001b[49m\u001b[43m,\u001b[49m\u001b[43mprfm_stat\u001b[49m\u001b[43m\t\u001b[49m\u001b[38;5;241;43m=\u001b[39;49m\u001b[43m\t\u001b[49m\u001b[38;5;124;43m'\u001b[39;49m\u001b[38;5;124;43mall\u001b[39;49m\u001b[38;5;124;43m'\u001b[39;49m\n\u001b[1;32m     13\u001b[0m \u001b[43m\t\t\u001b[49m\u001b[43m,\u001b[49m\u001b[43mdisp_mthd\u001b[49m\u001b[43m\t\u001b[49m\u001b[38;5;241;43m=\u001b[39;49m\u001b[43m\t\u001b[49m\u001b[38;5;124;43m'\u001b[39;49m\u001b[38;5;124;43mas_value\u001b[39;49m\u001b[38;5;124;43m'\u001b[39;49m\n\u001b[1;32m     14\u001b[0m \u001b[43m\t\t\u001b[49m\u001b[43m,\u001b[49m\u001b[43mtest_whch\u001b[49m\u001b[43m\t\u001b[49m\u001b[38;5;241;43m=\u001b[39;49m\u001b[43m\t\u001b[49m\u001b[38;5;124;43m'\u001b[39;49m\u001b[38;5;124;43munseen_train\u001b[39;49m\u001b[38;5;124;43m'\u001b[39;49m\n\u001b[1;32m     15\u001b[0m \u001b[43m\t\t\u001b[49m\u001b[43m,\u001b[49m\u001b[43mpred_type\u001b[49m\u001b[43m\t\u001b[49m\u001b[38;5;241;43m=\u001b[39;49m\u001b[43m\t\u001b[49m\u001b[38;5;124;43m'\u001b[39;49m\u001b[38;5;124;43mclassification\u001b[39;49m\u001b[38;5;124;43m'\u001b[39;49m\n\u001b[1;32m     16\u001b[0m \u001b[43m)\u001b[49m\n",
      "File \u001b[0;32m~/ES/-ES-NN-test1/RotationalEnsemble/_Model_Evaluation.py:212\u001b[0m, in \u001b[0;36mevaluate_models\u001b[0;34m(models, X_findx, X_trans, X_train, y_train, X_test, y_test, prfm_gnrl, prfm_stat, disp_mthd, test_whch, pred_type)\u001b[0m\n\u001b[1;32m    210\u001b[0m \u001b[38;5;28;01mif\u001b[39;00m(\u001b[38;5;28mlen\u001b[39m(unsn_performances)\u001b[38;5;241m>\u001b[39m\u001b[38;5;241m0\u001b[39m):\n\u001b[1;32m    211\u001b[0m \t\u001b[38;5;28mprint\u001b[39m(\u001b[38;5;124mf\u001b[39m\u001b[38;5;124m\"\u001b[39m\u001b[38;5;130;01m\\n\u001b[39;00m\u001b[38;5;130;01m\\t\u001b[39;00m\u001b[38;5;124mDisplaying all performance for all \u001b[39m\u001b[38;5;124m'\u001b[39m\u001b[38;5;124munseen\u001b[39m\u001b[38;5;124m'\u001b[39m\u001b[38;5;124m training samples: (\u001b[39m\u001b[38;5;132;01m{\u001b[39;00m\u001b[38;5;28mlen\u001b[39m(unsn_performances)\u001b[38;5;132;01m}\u001b[39;00m\u001b[38;5;124m cases)\u001b[39m\u001b[38;5;130;01m\\n\u001b[39;00m\u001b[38;5;124m\"\u001b[39m)\n\u001b[0;32m--> 212\u001b[0m \t\u001b[43mdisplay_evaluation\u001b[49m\u001b[43m(\u001b[49m\u001b[43munsn_performances\u001b[49m\u001b[43m,\u001b[49m\u001b[43m \u001b[49m\u001b[43mprfm_gnrl\u001b[49m\u001b[43m,\u001b[49m\u001b[43m \u001b[49m\u001b[43mprfm_stat\u001b[49m\u001b[43m,\u001b[49m\u001b[43m \u001b[49m\u001b[43mdisp_mthd\u001b[49m\u001b[43m)\u001b[49m\n\u001b[1;32m    213\u001b[0m \u001b[38;5;28;01mif\u001b[39;00m(\u001b[38;5;28mlen\u001b[39m(indp_performances)\u001b[38;5;241m>\u001b[39m\u001b[38;5;241m0\u001b[39m):\n\u001b[1;32m    214\u001b[0m \t\u001b[38;5;28mprint\u001b[39m(\u001b[38;5;124mf\u001b[39m\u001b[38;5;124m\"\u001b[39m\u001b[38;5;130;01m\\n\u001b[39;00m\u001b[38;5;130;01m\\t\u001b[39;00m\u001b[38;5;124mDisplaying all performances for all independent samples: (\u001b[39m\u001b[38;5;132;01m{\u001b[39;00m\u001b[38;5;28mlen\u001b[39m(indp_performances)\u001b[38;5;132;01m}\u001b[39;00m\u001b[38;5;124m cases)\u001b[39m\u001b[38;5;130;01m\\n\u001b[39;00m\u001b[38;5;124m\"\u001b[39m)\n",
      "File \u001b[0;32m~/ES/-ES-NN-test1/RotationalEnsemble/_Model_Evaluation.py:392\u001b[0m, in \u001b[0;36mdisplay_evaluation\u001b[0;34m(prfm_tupls, prfm_gnrl, prfm_stat, disp_mthd)\u001b[0m\n\u001b[1;32m    388\u001b[0m \u001b[38;5;28;01mif\u001b[39;00m(disp_mthd \u001b[38;5;129;01min\u001b[39;00m (\u001b[38;5;124m'\u001b[39m\u001b[38;5;124mas_value\u001b[39m\u001b[38;5;124m'\u001b[39m,\u001b[38;5;124m'\u001b[39m\u001b[38;5;124mas_both\u001b[39m\u001b[38;5;124m'\u001b[39m)):\n\u001b[1;32m    389\u001b[0m \n\u001b[1;32m    390\u001b[0m \t\u001b[38;5;66;03m#iterate through each generalization selected\u001b[39;00m\n\u001b[1;32m    391\u001b[0m \t\u001b[38;5;28;01mfor\u001b[39;00m g_index, generalization \u001b[38;5;129;01min\u001b[39;00m \u001b[38;5;28menumerate\u001b[39m(performance_statistics):\n\u001b[0;32m--> 392\u001b[0m \t\t\u001b[38;5;28mprint\u001b[39m(\u001b[38;5;124mf\u001b[39m\u001b[38;5;124m'\u001b[39m\u001b[38;5;130;01m\\n\u001b[39;00m\u001b[38;5;124mStatistics \u001b[39m\u001b[38;5;132;01m{\u001b[39;00m\u001b[43mgeneralization_titles\u001b[49m\u001b[43m[\u001b[49m\u001b[43mg_index\u001b[49m\u001b[43m]\u001b[49m\u001b[38;5;132;01m}\u001b[39;00m\u001b[38;5;124m:\u001b[39m\u001b[38;5;130;01m\\n\u001b[39;00m\u001b[38;5;124m'\u001b[39m)\n\u001b[1;32m    394\u001b[0m \t\t\u001b[38;5;66;03m#NOTE here we are looking at each generalization, where 'generalization is a splitting-list\u001b[39;00m\n\u001b[1;32m    395\u001b[0m \t\t\u001b[38;5;66;03m#SO we are going to show the statistics of all splits! (meaning of all occupied spaces of given dimension)\u001b[39;00m\n\u001b[1;32m    396\u001b[0m \t\t\u001b[38;5;28;01mfor\u001b[39;00m split_index, split \u001b[38;5;129;01min\u001b[39;00m \u001b[38;5;28menumerate\u001b[39m(generalization):\n\u001b[1;32m    397\u001b[0m \n\u001b[1;32m    398\u001b[0m \t\t\t\u001b[38;5;66;03m#NOTE here we are looking at each split statistics, where split is iterable stat categories (acc,prec,rec)\u001b[39;00m\n",
      "\u001b[0;31mIndexError\u001b[0m: list index out of range"
     ]
    }
   ],
   "source": [
    "from _Model_Evaluation import *\n",
    "\n",
    "evaluate_models(\n",
    "\t\tmodels=models\n",
    "\t\t,X_findx=X_find_parts\n",
    "\t\t,X_trans=X_trans_parts\n",
    "\t\t,X_train=X_train_parts\n",
    "\t\t,y_train=y_parts\n",
    "\t\t,X_test=X_val\n",
    "\t\t,y_test=y_val\n",
    "\t\t,prfm_gnrl\t=\t'all'\n",
    "\t\t,prfm_stat\t=\t'all'\n",
    "\t\t,disp_mthd\t=\t'as_value'\n",
    "\t\t,test_whch\t=\t'unseen_train'\n",
    "\t\t,pred_type\t=\t'classification'\n",
    ")"
   ]
  },
  {
   "cell_type": "code",
   "execution_count": null,
   "metadata": {},
   "outputs": [],
   "source": [
    "from _Prediction_Fusion import *\n",
    "\n",
    "y_pred = pred_proba_fusion(\n",
    "\tmodels=models\n",
    "\t,type_model=type(models[0])\n",
    "\t,X_test=X_val\n",
    "\t,fusion_type='Popular'\n",
    ")"
   ]
  },
  {
   "cell_type": "code",
   "execution_count": null,
   "metadata": {},
   "outputs": [],
   "source": [
    "from sklearn.tree import DecisionTreeClassifier\n",
    "from aeon.classification.sklearn import RotationForestClassifier\n",
    "\n",
    "def new_dt(max_depth):\n",
    "    return DecisionTreeClassifier(max_depth=max_depth)\n",
    "\n",
    "#56%accuracy with these stats\n",
    "model = RotationForestClassifier(base_estimator=new_dt(max_depth=4),\n",
    "                                    n_estimators=4\n",
    "                                    ,min_group=1\n",
    "                                    ,max_group=20\n",
    "                                    ,remove_proportion= 0.3\n",
    "                                    ,contract_max_n_estimators=500\n",
    "                                    ,random_state=42,n_jobs=-1)\n"
   ]
  },
  {
   "cell_type": "code",
   "execution_count": null,
   "metadata": {},
   "outputs": [],
   "source": [
    "var1 = ['123','234','345']\n",
    "var2 = 'hello'\n",
    "var3 = []\n",
    "var4 = 4\n",
    "\n",
    "for string in var1:\n",
    "\tprint(string)"
   ]
  }
 ],
 "metadata": {
  "kernelspec": {
   "display_name": ".torch_",
   "language": "python",
   "name": "python3"
  },
  "language_info": {
   "codemirror_mode": {
    "name": "ipython",
    "version": 3
   },
   "file_extension": ".py",
   "mimetype": "text/x-python",
   "name": "python",
   "nbconvert_exporter": "python",
   "pygments_lexer": "ipython3",
   "version": "3.12.3"
  }
 },
 "nbformat": 4,
 "nbformat_minor": 2
}
