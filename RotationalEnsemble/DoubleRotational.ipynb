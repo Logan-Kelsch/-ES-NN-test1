{
 "cells": [
  {
   "cell_type": "markdown",
   "metadata": {},
   "source": [
    "### This file will use the Rotational Forest Classifier from the Aeon library"
   ]
  },
  {
   "cell_type": "code",
   "execution_count": null,
   "metadata": {},
   "outputs": [],
   "source": [
    "from _Data_Processing import *\n",
    "\n",
    "'''\n",
    "this function returns 7 objects:\n",
    "    data: sets of data as X_train, X_val, X_ind, y_train, y_val, y_ind\n",
    "    feature_list: list of all feature names with a column index (dict)\n",
    "'''\n",
    "X_train, X_val, X_ind,\\\n",
    "y_train, y_val, y_ind,\\\n",
    "feature_list =\\\n",
    "preprocess_data(\n",
    "    file_name   =\t\t'betaset_tmp.csv'\n",
    "    ,indp_size  =\t\t0.05\n",
    "    ,test_size  =\t\t0.15\n",
    "    ,shfl_splt\t=\t\tFalse\n",
    "    ,t_start    =\t\t570\n",
    "    ,t_end\t\t=\t\t720\n",
    "    ,mod_type\t=\t\t'Classification'\n",
    "    ,target_t\t=\t\t15\n",
    "    ,num_class\t=\t\t2\n",
    "    ,split_val\t=\t\t5\n",
    "    ,verbose\t=\t\t1\n",
    "    ,scaler\t\t=\t\t'Standard'\n",
    "    ,frmt_lstm\t=\t\tFalse\n",
    "    ,time_steps =\t\t5\n",
    "    ,keep_price =\t\tTrue\n",
    ")"
   ]
  },
  {
   "cell_type": "code",
   "execution_count": null,
   "metadata": {},
   "outputs": [],
   "source": [
    "import tensorflow as tf"
   ]
  },
  {
   "cell_type": "code",
   "execution_count": 7,
   "metadata": {},
   "outputs": [
    {
     "name": "stdout",
     "output_type": "stream",
     "text": [
      "['high', 'low', 'close', 'time', 'volume']\n",
      "['ToD', 'DoW']\n",
      "['vel1', 'vel2', 'vel3', 'vel4', 'vel5', 'vel6', 'vel7', 'vel8', 'vel9', 'vel10', 'vel11', 'vel12', 'vel13', 'vel14', 'vel15', 'vel16', 'vel17', 'vel18', 'vel19', 'vel20', 'vel21', 'vel22', 'vel23', 'vel24', 'vel25', 'vel26', 'vel27', 'vel28', 'vel29', 'vel30', 'vel31', 'vel32', 'vel33', 'vel34', 'vel35', 'vel36', 'vel37', 'vel38', 'vel39', 'vel40', 'vel41', 'vel42', 'vel43', 'vel44', 'vel45', 'vel46', 'vel47', 'vel48', 'vel49', 'vel50', 'vel51', 'vel52', 'vel53', 'vel54', 'vel55', 'vel56', 'vel57', 'vel58', 'vel59', 'vel60']\n",
      "['acc1', 'acc2', 'acc3', 'acc4', 'acc5', 'acc6', 'acc7', 'acc8', 'acc9', 'acc10', 'acc11', 'acc12', 'acc13', 'acc14', 'acc15', 'acc16', 'acc17', 'acc18', 'acc19', 'acc20', 'acc21', 'acc22', 'acc23', 'acc24', 'acc25', 'acc26', 'acc27', 'acc28', 'acc29', 'acc30', 'acc31', 'acc32', 'acc33', 'acc34', 'acc35', 'acc36', 'acc37', 'acc38', 'acc39', 'acc40', 'acc41', 'acc42', 'acc43', 'acc44', 'acc45', 'acc46', 'acc47', 'acc48', 'acc49', 'acc50', 'acc51', 'acc52', 'acc53', 'acc54', 'acc55', 'acc56', 'acc57', 'acc58', 'acc59', 'acc60']\n",
      "['stchK5', 'stchK10', 'stchK15', 'stchK20', 'stchK25', 'stchK30', 'stchK35', 'stchK40', 'stchK45', 'stchK50', 'stchK55', 'stchK60', 'stchK65', 'stchK70', 'stchK75', 'stchK80', 'stchK85', 'stchK90', 'stchK95', 'stchK100', 'stchK105', 'stchK110', 'stchK115', 'stchK120']\n",
      "['barH', 'wickH', 'diff_wick']\n",
      "['vol_m2', 'vol_m3', 'vol_m4', 'vol_m5', 'vol_m6', 'vol_m7', 'vol_m8', 'vol_m9', 'vol_m10', 'vol_m11', 'vol_m12', 'vol_m13', 'vol_m14', 'vol_m15', 'vol_m16', 'vol_m17', 'vol_m18', 'vol_m19', 'vol_m20', 'vol_m21', 'vol_m22', 'vol_m23', 'vol_m24', 'vol_m25', 'vol_m26', 'vol_m27', 'vol_m28', 'vol_m29', 'vol_m30', 'vol_m31', 'vol_m32', 'vol_m33', 'vol_m34', 'vol_m35', 'vol_m36', 'vol_m37', 'vol_m38', 'vol_m39', 'vol_m40', 'vol_m41', 'vol_m42', 'vol_m43', 'vol_m44', 'vol_m45', 'vol_m46', 'vol_m47', 'vol_m48', 'vol_m49', 'vol_m50', 'vol_m51', 'vol_m52', 'vol_m53', 'vol_m54', 'vol_m55', 'vol_m56', 'vol_m57', 'vol_m58', 'vol_m59', 'vol_m60']\n",
      "['vol_avgDiff2', 'vol_avgDiff3', 'vol_avgDiff4', 'vol_avgDiff5', 'vol_avgDiff6', 'vol_avgDiff7', 'vol_avgDiff8', 'vol_avgDiff9', 'vol_avgDiff10', 'vol_avgDiff11', 'vol_avgDiff12', 'vol_avgDiff13', 'vol_avgDiff14', 'vol_avgDiff15', 'vol_avgDiff16', 'vol_avgDiff17', 'vol_avgDiff18', 'vol_avgDiff19', 'vol_avgDiff20', 'vol_avgDiff21', 'vol_avgDiff22', 'vol_avgDiff23', 'vol_avgDiff24', 'vol_avgDiff25', 'vol_avgDiff26', 'vol_avgDiff27', 'vol_avgDiff28', 'vol_avgDiff29', 'vol_avgDiff30', 'vol_avgDiff31', 'vol_avgDiff32', 'vol_avgDiff33', 'vol_avgDiff34', 'vol_avgDiff35', 'vol_avgDiff36', 'vol_avgDiff37', 'vol_avgDiff38', 'vol_avgDiff39', 'vol_avgDiff40', 'vol_avgDiff41', 'vol_avgDiff42', 'vol_avgDiff43', 'vol_avgDiff44', 'vol_avgDiff45', 'vol_avgDiff46', 'vol_avgDiff47', 'vol_avgDiff48', 'vol_avgDiff49', 'vol_avgDiff50', 'vol_avgDiff51', 'vol_avgDiff52', 'vol_avgDiff53', 'vol_avgDiff54', 'vol_avgDiff55', 'vol_avgDiff56', 'vol_avgDiff57', 'vol_avgDiff58', 'vol_avgDiff59', 'vol_avgDiff60']\n",
      "['ma2', 'ma3', 'ma4', 'ma5', 'ma6', 'ma7', 'ma8', 'ma9', 'ma10', 'ma11', 'ma12', 'ma13', 'ma14', 'ma15', 'ma16', 'ma17', 'ma18', 'ma19', 'ma20', 'ma21', 'ma22', 'ma23', 'ma24', 'ma25', 'ma26', 'ma27', 'ma28', 'ma29', 'ma30', 'ma31', 'ma32', 'ma33', 'ma34', 'ma35', 'ma36', 'ma37', 'ma38', 'ma39', 'ma40', 'ma41', 'ma42', 'ma43', 'ma44', 'ma45', 'ma46', 'ma47', 'ma48', 'ma49', 'ma50', 'ma51', 'ma52', 'ma53', 'ma54', 'ma55', 'ma56', 'ma57', 'ma58', 'ma59']\n",
      "['ma60', 'ma80', 'ma100', 'ma120', 'ma140', 'ma160', 'ma180', 'ma200', 'ma220', 'ma240']\n",
      "['disp_ma2', 'disp_ma3', 'disp_ma4', 'disp_ma5', 'disp_ma6', 'disp_ma7', 'disp_ma8', 'disp_ma9', 'disp_ma10', 'disp_ma11', 'disp_ma12', 'disp_ma13', 'disp_ma14', 'disp_ma15', 'disp_ma16', 'disp_ma17', 'disp_ma18', 'disp_ma19', 'disp_ma20', 'disp_ma21', 'disp_ma22', 'disp_ma23', 'disp_ma24', 'disp_ma25', 'disp_ma26', 'disp_ma27', 'disp_ma28', 'disp_ma29', 'disp_ma30', 'disp_ma31', 'disp_ma32', 'disp_ma33', 'disp_ma34', 'disp_ma35', 'disp_ma36', 'disp_ma37', 'disp_ma38', 'disp_ma39', 'disp_ma40', 'disp_ma41', 'disp_ma42', 'disp_ma43', 'disp_ma44', 'disp_ma45', 'disp_ma46', 'disp_ma47', 'disp_ma48', 'disp_ma49', 'disp_ma50', 'disp_ma51', 'disp_ma52', 'disp_ma53', 'disp_ma54', 'disp_ma55', 'disp_ma56', 'disp_ma57', 'disp_ma58', 'disp_ma59']\n",
      "['disp_ma60', 'disp_ma80', 'disp_ma100', 'disp_ma120', 'disp_ma140', 'disp_ma160', 'disp_ma180', 'disp_ma200', 'disp_ma220', 'disp_ma240']\n",
      "['diff_ma_5_15', 'diff_ma_5_30', 'diff_ma_5_60', 'diff_ma_5_120', 'diff_ma_5_240', 'diff_ma_15_30', 'diff_ma_15_60', 'diff_ma_15_120', 'diff_ma_15_240', 'diff_ma_30_60', 'diff_ma_30_120', 'diff_ma_30_240', 'diff_ma_60_120', 'diff_ma_60_240', 'diff_ma_120_240']\n",
      "['hihi5', 'hihi15', 'hihi30', 'hihi60', 'hihi120', 'hihi240']\n",
      "['disp_hihi5', 'disp_hihi15', 'disp_hihi30', 'disp_hihi60', 'disp_hihi120', 'disp_hihi240']\n",
      "['lolo5', 'lolo15', 'lolo30', 'lolo60', 'lolo120', 'lolo240']\n",
      "['disp_lolo5', 'disp_lolo15', 'disp_lolo30', 'disp_lolo60', 'disp_lolo120', 'disp_lolo240']\n",
      "['diff_hilo_5_5', 'diff_hilo_5_15', 'diff_hilo_5_30', 'diff_hilo_5_60', 'diff_hilo_5_120', 'diff_hilo_5_240', 'diff_hilo_15_5', 'diff_hilo_15_15', 'diff_hilo_15_30', 'diff_hilo_15_60', 'diff_hilo_15_120', 'diff_hilo_15_240', 'diff_hilo_30_5', 'diff_hilo_30_15', 'diff_hilo_30_30', 'diff_hilo_30_60', 'diff_hilo_30_120', 'diff_hilo_30_240', 'diff_hilo_60_5', 'diff_hilo_60_15', 'diff_hilo_60_30', 'diff_hilo_60_60', 'diff_hilo_60_120', 'diff_hilo_60_240', 'diff_hilo_120_5', 'diff_hilo_120_15', 'diff_hilo_120_30', 'diff_hilo_120_60', 'diff_hilo_120_120', 'diff_hilo_120_240', 'diff_hilo_240_5', 'diff_hilo_240_15', 'diff_hilo_240_30', 'diff_hilo_240_60', 'diff_hilo_240_120', 'diff_hilo_240_240']\n",
      "['hilo_stoch_5_5', 'hilo_stoch_5_15', 'hilo_stoch_5_30', 'hilo_stoch_5_60', 'hilo_stoch_5_120', 'hilo_stoch_5_240', 'hilo_stoch_15_5', 'hilo_stoch_15_15', 'hilo_stoch_15_30', 'hilo_stoch_15_60', 'hilo_stoch_15_120', 'hilo_stoch_15_240', 'hilo_stoch_30_5', 'hilo_stoch_30_15', 'hilo_stoch_30_30', 'hilo_stoch_30_60', 'hilo_stoch_30_120', 'hilo_stoch_30_240', 'hilo_stoch_60_5', 'hilo_stoch_60_15', 'hilo_stoch_60_30', 'hilo_stoch_60_60', 'hilo_stoch_60_120', 'hilo_stoch_60_240', 'hilo_stoch_120_5', 'hilo_stoch_120_15', 'hilo_stoch_120_30', 'hilo_stoch_120_60', 'hilo_stoch_120_120', 'hilo_stoch_120_240', 'hilo_stoch_240_5', 'hilo_stoch_240_15', 'hilo_stoch_240_30', 'hilo_stoch_240_60', 'hilo_stoch_240_120', 'hilo_stoch_240_240']\n"
     ]
    }
   ],
   "source": [
    "names = fn_all_subsets(real_prices=True)\n",
    "for i in range(len(names)):\n",
    "\tprint(names[i])"
   ]
  }
 ],
 "metadata": {
  "kernelspec": {
   "display_name": ".tf_",
   "language": "python",
   "name": "python3"
  },
  "language_info": {
   "codemirror_mode": {
    "name": "ipython",
    "version": 3
   },
   "file_extension": ".py",
   "mimetype": "text/x-python",
   "name": "python",
   "nbconvert_exporter": "python",
   "pygments_lexer": "ipython3",
   "version": "3.12.3"
  }
 },
 "nbformat": 4,
 "nbformat_minor": 2
}
