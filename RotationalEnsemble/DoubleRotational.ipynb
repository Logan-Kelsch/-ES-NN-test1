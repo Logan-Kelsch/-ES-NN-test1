{
 "cells": [
  {
   "cell_type": "markdown",
   "metadata": {},
   "source": [
    "### This file will use the Rotational Forest Classifier from the Aeon library"
   ]
  },
  {
   "cell_type": "code",
   "execution_count": 1,
   "metadata": {},
   "outputs": [
    {
     "name": "stdout",
     "output_type": "stream",
     "text": [
      "Trying to load CSV file into DataFrame...Success.\n",
      "Size of dataset:\t1114754084\n",
      "Size after reduction:\t557377124\n",
      "Trying to drop unused targets...Success.\n",
      "Trying to collect indices of wanted times...Success.\n",
      "Trying to drop price features...Success...\n",
      "\n",
      "# of Samples:\t226576\n",
      "\n",
      "# of Features:\t436\n",
      "\n",
      "Target:\t\ttc_2c_15m\n",
      "\n",
      "Trying to split DataFrame into X and y...<class 'numpy.ndarray'> <class 'numpy.ndarray'> <class 'numpy.float32'>\n",
      "Success.\n",
      "Trying to collect all feature names and indices...Success.\n",
      "Trying to clean up...Success.\n",
      "Trying to encode y and make class weights...Failed [NON-FATAL: NOT IMPLEMENTED]\n",
      "Trying to standardize all featurespace from training featurespace...Success.\n",
      "Trying to drop unwanted time-range samples...Success.\n",
      "\t201633 Samples Dropped.\n",
      "\n",
      "Trying to split X and y into Train/Validation/Independent...Success.\n",
      "Trying to clean up...Success.\n",
      "X_train:\t(19704, 436).\n",
      "y_train:\t(19704,).\n",
      "X_val:  \t(4989, 436).\n",
      "y_val:  \t(4989,).\n",
      "X_ind:  \t(250, 436).\n",
      "y_ind:  \t(250,).\n",
      "Collecting garbage...Success.\n",
      "Terminating.\n"
     ]
    }
   ],
   "source": [
    "import _Data_Processing\n",
    "from importlib import reload\n",
    "\n",
    "'''\n",
    "this function returns 7 objects:\n",
    "\tdata: sets of data as X_train, X_val, X_ind, y_train, y_val, y_ind\n",
    "\tfeature_list: list of all feature names with a column index (dict)\n",
    "'''\n",
    "\n",
    "reload(_Data_Processing)\n",
    "\n",
    "lstm_format = False\n",
    "\n",
    "X_train, X_val, X_ind,\\\n",
    "y_train, y_val, y_ind,\\\n",
    "feature_subsets =\\\n",
    "_Data_Processing.preprocess_data(\n",
    "\tfile_name   =\t\t'betaset_tmp.csv'\n",
    "\t,indp_size  =\t\t0.01\n",
    "\t,test_size  =\t\t0.20\n",
    "\t,shfl_splt\t=\t\tFalse\n",
    "\t,t_start    =\t\t570\n",
    "\t,t_end\t\t=\t\t720\n",
    "\t,mod_type\t=\t\t'Classification'\n",
    "\t,target_t\t=\t\t15\n",
    "\t,num_class\t=\t\t2\n",
    "\t,split_val\t=\t\t5\n",
    "\t,verbose\t=\t\t1\n",
    "\t,scaler\t\t=\t\t'Standard'\n",
    "\t,frmt_lstm\t=\t\tlstm_format\n",
    "\t,time_steps =\t\t5\n",
    "\t,keep_price =\t\tFalse\n",
    ")"
   ]
  },
  {
   "cell_type": "code",
   "execution_count": 2,
   "metadata": {},
   "outputs": [
    {
     "data": {
      "text/plain": [
       "'\\nall partitions\\n\\tX_train_parts\\nall sample partitions of THE featurespace partition i\\n\\tX_train_parts[i]\\nThe single partition of THE samplespace partition j of THE featurespace partition i\\n\\tX_train_parts[i][j] -- -- -- This is now a set of trainable data\\n'"
      ]
     },
     "execution_count": 2,
     "metadata": {},
     "output_type": "execute_result"
    }
   ],
   "source": [
    "import _Data_Rotating\n",
    "from importlib import reload\n",
    "'''\n",
    "This function returns 4 items.\n",
    "-\t2D array of X partitions, by featurespace and samplespace\n",
    "-\t1D array of index-lists for each featurespace-partition specific features\n",
    "-\t1D array of featurespace-partition specific rotation transformer functions\n",
    "-\t1D array of y partitions for each samplespace partition.\n",
    "'''\n",
    "\n",
    "reload(_Data_Rotating)\n",
    "\n",
    "X_train_parts, X_find_parts, X_trans_parts, y_parts = _Data_Rotating.rotate_partitions(\n",
    "\tX\t\t\t\t=\tX_train\n",
    "    ,y\t\t\t\t=\ty_train\n",
    "\t,n_feat_parts\t=\t8\n",
    "\t,feat_subsets\t=\tfeature_subsets\n",
    "\t,feat_part_type\t=\t'by_subset'\n",
    "\t,fraction_feats\t=\t0.70\n",
    "\t,no_feat_overlap=\tFalse\n",
    "\t,feats_for_all\t=\t[]\n",
    "\t,rotation_type\t=\t'PCA'\n",
    "\t,rotation_filter=\tFalse\n",
    "\t,filter_type\t=\t'Retention'\n",
    "\t,filter_value\t=\t1.0\n",
    "    ,n_sample_parts\t=\t1\n",
    "    ,smpl_part_type\t=\t'Even'\n",
    "    ,sample_shuffle\t=\tFalse\n",
    "    ,lstm_format\t=\tlstm_format\n",
    ")\n",
    "\n",
    "'''\n",
    "all partitions\n",
    "\tX_train_parts\n",
    "all sample partitions of THE featurespace partition i\n",
    "\tX_train_parts[i]\n",
    "The single partition of THE samplespace partition j of THE featurespace partition i\n",
    "\tX_train_parts[i][j] -- -- -- This is now a set of trainable data\n",
    "'''"
   ]
  },
  {
   "cell_type": "code",
   "execution_count": 46,
   "metadata": {},
   "outputs": [
    {
     "name": "stdout",
     "output_type": "stream",
     "text": [
      "\t   'decision_tree'\n",
      "\t   'dt'\n",
      "\t\t-\t-\tSci-Kit Learn DecisionTreeClassifier\n",
      "\t\t-\t-\t{'criterion': 'gini', 'max_depth': 4, 'min_samples_split': 2, 'min_samples_leaf': 1}\n",
      "\t   \n",
      "\t   'rotation_forest'\n",
      "\t   'aeon_rf'\n",
      "\t\t   -\t-\tAEON Rotation Forest\n",
      "\t\t-\t-\t{'base_estimator': DecisionTreeClassifier(max_depth=4), 'n_estimators': 4, 'min_group': 1, 'max_group': 20, 'remove_proportion': 0.3, 'n_jobs': -1}\n",
      "\t   \n",
      "\t   'continuous_interval_tree'\n",
      "\t   'cit'\n",
      "\t   -\t-\tSci-Kit Learn ContinuousIntervalTreeVectorClassifier\n",
      "\t   -\t-\t{'max_depth': 4, 'thresholds': 20}\n",
      "\t   \n",
      "\t   \n"
     ]
    }
   ],
   "source": [
    "import _Modelset_Training\n",
    "reload(_Modelset_Training)\n",
    "\n",
    "_Modelset_Training.show_available_model_types()"
   ]
  },
  {
   "cell_type": "code",
   "execution_count": 3,
   "metadata": {},
   "outputs": [
    {
     "name": "stdout",
     "output_type": "stream",
     "text": [
      "Default parameters selected.\n",
      "cit\t-\t{'max_depth': 4, 'thresholds': 20}\n"
     ]
    }
   ],
   "source": [
    "import _Modelset_Training\n",
    "from importlib import reload\n",
    "\n",
    "'''\n",
    "Function returns a 3D list of trained models that are fit to the resepective dataset.\n",
    "\tDim1:\tFeaturespace, here are the subsetctions/partitions for each unique set of features\n",
    "    Dim2:\tSamplespace, here are the subsetctions/partitions for each unique set of samples\n",
    "    Dim3:\tModelspace, here are the individual models trained on a unique partition\n",
    "'''\n",
    "reload(_Modelset_Training)\n",
    "\n",
    "models = _Modelset_Training.train_models(\n",
    "    model_types\t=\t['cit']\n",
    "    ,data_parts\t=\tX_train_parts\n",
    "    ,trgt_parts\t=\ty_parts\n",
    "    ,param_mode\t=\t'default'\n",
    "    ,cst_mod_prm=\tNone\n",
    "    ,tnr_verbose=\tTrue\n",
    "    ,lstm_frmt\t=\tlstm_format\n",
    "    ,use_cls_wt\t=\tTrue\n",
    ")"
   ]
  },
  {
   "cell_type": "code",
   "execution_count": 4,
   "metadata": {},
   "outputs": [
    {
     "name": "stdout",
     "output_type": "stream",
     "text": [
      "Dimensions of Trained Models:\n",
      "\tFeature Space: 8\n",
      "\tSample Space: 1\n",
      "\tModel Space: 1\n",
      "\n",
      "\n",
      "\tDisplaying all performances for all independent samples: (8 cases)\n",
      "\n",
      "4\n",
      "\n",
      "Statistics Overall:\n",
      "\n",
      "\tSplit 0:\n",
      "\t\t\t\tAvg\tSt.Dv.\tLow\tHigh\n",
      "\t\tAccuracy\t0.53\t0.01\t0.51\t0.54\n",
      "\t\tPrecision\t0.56\t0.01\t0.54\t0.56\n",
      "\t\tRecall\t\t0.58\t0.1\t0.43\t0.78\n",
      "\n",
      "Statistics By Feature Space:\n",
      "\n",
      "\tSplit 0:\n",
      "\t\t\t\tAvg\tSt.Dv.\tLow\tHigh\n",
      "\t\tAccuracy\t0.53\t0.0\t0.53\t0.53\n",
      "\t\tPrecision\t0.56\t0.0\t0.56\t0.56\n",
      "\t\tRecall\t\t0.56\t0.0\t0.56\t0.56\n",
      "\tSplit 1:\n",
      "\t\t\t\tAvg\tSt.Dv.\tLow\tHigh\n",
      "\t\tAccuracy\t0.54\t0.0\t0.54\t0.54\n",
      "\t\tPrecision\t0.56\t0.0\t0.56\t0.56\n",
      "\t\tRecall\t\t0.58\t0.0\t0.58\t0.58\n",
      "\tSplit 2:\n",
      "\t\t\t\tAvg\tSt.Dv.\tLow\tHigh\n",
      "\t\tAccuracy\t0.53\t0.0\t0.53\t0.53\n",
      "\t\tPrecision\t0.54\t0.0\t0.54\t0.54\n",
      "\t\tRecall\t\t0.78\t0.0\t0.78\t0.78\n",
      "\tSplit 3:\n",
      "\t\t\t\tAvg\tSt.Dv.\tLow\tHigh\n",
      "\t\tAccuracy\t0.54\t0.0\t0.54\t0.54\n",
      "\t\tPrecision\t0.56\t0.0\t0.56\t0.56\n",
      "\t\tRecall\t\t0.59\t0.0\t0.59\t0.59\n",
      "\tSplit 4:\n",
      "\t\t\t\tAvg\tSt.Dv.\tLow\tHigh\n",
      "\t\tAccuracy\t0.53\t0.0\t0.53\t0.53\n",
      "\t\tPrecision\t0.56\t0.0\t0.56\t0.56\n",
      "\t\tRecall\t\t0.56\t0.0\t0.56\t0.56\n",
      "\tSplit 5:\n",
      "\t\t\t\tAvg\tSt.Dv.\tLow\tHigh\n",
      "\t\tAccuracy\t0.51\t0.0\t0.51\t0.51\n",
      "\t\tPrecision\t0.54\t0.0\t0.54\t0.54\n",
      "\t\tRecall\t\t0.5\t0.0\t0.5\t0.5\n",
      "\tSplit 6:\n",
      "\t\t\t\tAvg\tSt.Dv.\tLow\tHigh\n",
      "\t\tAccuracy\t0.52\t0.0\t0.52\t0.52\n",
      "\t\tPrecision\t0.56\t0.0\t0.56\t0.56\n",
      "\t\tRecall\t\t0.43\t0.0\t0.43\t0.43\n",
      "\tSplit 7:\n",
      "\t\t\t\tAvg\tSt.Dv.\tLow\tHigh\n",
      "\t\tAccuracy\t0.54\t0.0\t0.54\t0.54\n",
      "\t\tPrecision\t0.56\t0.0\t0.56\t0.56\n",
      "\t\tRecall\t\t0.61\t0.0\t0.61\t0.61\n",
      "\n",
      "Statistics By Sample Space:\n",
      "\n",
      "\tSplit 0:\n",
      "\t\t\t\tAvg\tSt.Dv.\tLow\tHigh\n",
      "\t\tAccuracy\t0.53\t0.01\t0.51\t0.54\n",
      "\t\tPrecision\t0.56\t0.01\t0.54\t0.56\n",
      "\t\tRecall\t\t0.58\t0.1\t0.43\t0.78\n",
      "\n",
      "Statistics By Model Space:\n",
      "\n",
      "\tSplit 0:\n",
      "\t\t\t\tAvg\tSt.Dv.\tLow\tHigh\n",
      "\t\tAccuracy\t0.53\t0.01\t0.51\t0.54\n",
      "\t\tPrecision\t0.56\t0.01\t0.54\t0.56\n",
      "\t\tRecall\t\t0.58\t0.1\t0.43\t0.78\n"
     ]
    }
   ],
   "source": [
    "import _Model_Evaluation\n",
    "\n",
    "reload(_Model_Evaluation)\n",
    "\n",
    "_Model_Evaluation.evaluate_models(\n",
    "\t\tmodels=models\n",
    "\t\t,X_findx=X_find_parts\n",
    "\t\t,X_trans=X_trans_parts\n",
    "\t\t,X_train=X_train_parts\n",
    "\t\t,y_train=y_parts\n",
    "\t\t,X_test=X_val\n",
    "\t\t,y_test=y_val\n",
    "\t\t,prfm_gnrl\t=\t'all'\n",
    "\t\t,prfm_stat\t=\t'all'\n",
    "\t\t,disp_mthd\t=\t'as_value'\n",
    "\t\t,test_whch\t=\t'independent'\n",
    "\t\t,pred_type\t=\t'classification'\n",
    "        ,lstm_frmt\t=\tlstm_format\n",
    ")"
   ]
  },
  {
   "cell_type": "code",
   "execution_count": 10,
   "metadata": {},
   "outputs": [
    {
     "name": "stdout",
     "output_type": "stream",
     "text": [
      "META-MODEL SELF TEST:\n",
      "\tAccuracy:\t0.55\n",
      "\tPrecision:\t0.56\n",
      "\tRecall:\t\t0.72\n"
     ]
    },
    {
     "data": {
      "image/png": "[encoded data removed]",
      "text/plain": [
       "<Figure size 800x600 with 2 Axes>"
      ]
     },
     "metadata": {},
     "output_type": "display_data"
    },
    {
     "name": "stdout",
     "output_type": "stream",
     "text": [
      "META-MODEL INDEPENDENT TEST:\n",
      "\tAccuracy:\t0.54\n",
      "\tPrecision:\t0.54\n",
      "\tRecall:\t\t0.71\n"
     ]
    },
    {
     "data": {
      "image/png": "[encoded data removed]",
      "text/plain": [
       "<Figure size 800x600 with 2 Axes>"
      ]
     },
     "metadata": {},
     "output_type": "display_data"
    }
   ],
   "source": [
    "import _Metamodel\n",
    "from importlib import reload\n",
    "\n",
    "reload(_Metamodel)\n",
    "metamodel, prediction_set = _Metamodel.train_test_meta_model(\n",
    "\tmodels\t=\tmodels\n",
    "\t,X_findx=X_find_parts\n",
    "\t,X_trans=X_trans_parts\n",
    "\t,X_test\t=\tX_val\n",
    "\t,y_test\t=\ty_val\n",
    "\t,val_size\t=\t0.2\n",
    "\t,shuffle\t=\tTrue\n",
    "\t,metam_type = 'logistic_regression'\n",
    "    ,use_cls_wt = True\n",
    ")"
   ]
  },
  {
   "cell_type": "code",
   "execution_count": null,
   "metadata": {},
   "outputs": [
    {
     "ename": "NameError",
     "evalue": "name 'np' is not defined",
     "output_type": "error",
     "traceback": [
      "\u001b[0;31m---------------------------------------------------------------------------\u001b[0m",
      "\u001b[0;31mNameError\u001b[0m                                 Traceback (most recent call last)",
      "Cell \u001b[0;32mIn[7], line 1\u001b[0m\n\u001b[0;32m----> 1\u001b[0m zeros \u001b[38;5;241m=\u001b[39m \u001b[43mnp\u001b[49m\u001b[38;5;241m.\u001b[39marray([])\n\u001b[1;32m      2\u001b[0m \u001b[38;5;28;01mfor\u001b[39;00m p \u001b[38;5;129;01min\u001b[39;00m prediction_set:\n\u001b[1;32m      3\u001b[0m     count \u001b[38;5;241m=\u001b[39m np\u001b[38;5;241m.\u001b[39mbincount(p)\n",
      "\u001b[0;31mNameError\u001b[0m: name 'np' is not defined"
     ]
    }
   ],
   "source": [
    "zeros = np.array([])\n",
    "for p in prediction_set:\n",
    "    count = np.bincount(p)\n",
    "    zeros = np.append(zeros, count[0])\n",
    "    \n",
    "y_val_zeros_indices = np.where(y_val != 0)[0]\n",
    "\n",
    "zerocount_filtered = zeros[y_val_zeros_indices]\n",
    "zerocount_filtered = zerocount_filtered.astype(int)\n",
    "\n",
    "print((zerocount_filtered[0]))\n",
    "\n",
    "frequenct_0 = np.array([])\n",
    "frequenct_0 = np.bincount(zerocount_filtered)\n",
    "\n",
    "print(frequenct_0)\n",
    "\n",
    "import matplotlib.pyplot as plt\n",
    "\n",
    "plt.bar(range(9),frequenct_0)"
   ]
  }
 ],
 "metadata": {
  "kernelspec": {
   "display_name": ".torch_",
   "language": "python",
   "name": "python3"
  },
  "language_info": {
   "codemirror_mode": {
    "name": "ipython",
    "version": 3
   },
   "file_extension": ".py",
   "mimetype": "text/x-python",
   "name": "python",
   "nbconvert_exporter": "python",
   "pygments_lexer": "ipython3",
   "version": "3.12.3"
  }
 },
 "nbformat": 4,
 "nbformat_minor": 2
}
