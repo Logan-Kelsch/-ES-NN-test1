{
 "cells": [
  {
   "cell_type": "markdown",
   "metadata": {},
   "source": [
    "### This file will use the Rotational Forest Classifier from the Aeon library"
   ]
  },
  {
   "cell_type": "code",
   "execution_count": null,
   "metadata": {},
   "outputs": [],
   "source": [
    "from _Data_Processing import *\n",
    "\n",
    "'''\n",
    "this function returns 7 objects:\n",
    "    data: sets of data as X_train, X_val, X_ind, y_train, y_val, y_ind\n",
    "    feature_list: list of all feature names with a column index (dict)\n",
    "'''\n",
    "X_train, X_val, X_ind,\\\n",
    "y_train, y_val, y_ind,\\\n",
    "feature_subsets =\\\n",
    "preprocess_data(\n",
    "    file_name   =\t\t'betaset_tmp.csv'\n",
    "    ,indp_size  =\t\t0.05\n",
    "    ,test_size  =\t\t0.15\n",
    "    ,shfl_splt\t=\t\tFalse\n",
    "    ,t_start    =\t\t570\n",
    "    ,t_end\t\t=\t\t720\n",
    "    ,mod_type\t=\t\t'Classification'\n",
    "    ,target_t\t=\t\t15\n",
    "    ,num_class\t=\t\t2\n",
    "    ,split_val\t=\t\t5\n",
    "    ,verbose\t=\t\t1\n",
    "    ,scaler\t\t=\t\t'Standard'\n",
    "    ,frmt_lstm\t=\t\tFalse\n",
    "    ,time_steps =\t\t5\n",
    "    ,keep_price =\t\tFalse\n",
    ")"
   ]
  },
  {
   "cell_type": "code",
   "execution_count": null,
   "metadata": {},
   "outputs": [],
   "source": [
    "import tensorflow as tf"
   ]
  },
  {
   "cell_type": "code",
   "execution_count": null,
   "metadata": {},
   "outputs": [],
   "source": [
    "names = fn_all_subsets(real_prices=True)\n",
    "for i in range(len(names)):\n",
    "\tprint(names[i])"
   ]
  }
 ],
 "metadata": {
  "kernelspec": {
   "display_name": "logankelsch",
   "language": "python",
   "name": "python3"
  },
  "language_info": {
   "codemirror_mode": {
    "name": "ipython",
    "version": 3
   },
   "file_extension": ".py",
   "mimetype": "text/x-python",
   "name": "python",
   "nbconvert_exporter": "python",
   "pygments_lexer": "ipython3",
   "version": "3.12.3"
  }
 },
 "nbformat": 4,
 "nbformat_minor": 2
}
