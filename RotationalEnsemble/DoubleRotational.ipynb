{
 "cells": [
  {
   "cell_type": "markdown",
   "metadata": {},
   "source": [
    "### This file will use the Rotational Forest Classifier from the Aeon library"
   ]
  },
  {
   "cell_type": "code",
   "execution_count": 1,
   "metadata": {},
   "outputs": [
    {
     "name": "stdout",
     "output_type": "stream",
     "text": [
      "# of Samples:\t226576\n",
      "# of Features:\t436\n",
      "Target:\t\ttc_2c_15m\n",
      "\n",
      "201633 Samples Dropped.\n",
      "\n",
      "X_train:\t(19954, 436).\n",
      "y_train:\t(19954,).\n",
      "X_val:  \t(3741, 436).\n",
      "y_val:  \t(3741,).\n",
      "X_ind:  \t(1248, 436).\n",
      "y_ind:  \t(1248,).\n"
     ]
    }
   ],
   "source": [
    "from _Data_Processing import *\n",
    "\n",
    "'''\n",
    "this function returns 7 objects:\n",
    "    data: sets of data as X_train, X_val, X_ind, y_train, y_val, y_ind\n",
    "    feature_list: list of all feature names with a column index (dict)\n",
    "'''\n",
    "X_train, X_val, X_ind,\\\n",
    "y_train, y_val, y_ind,\\\n",
    "feature_list =\\\n",
    "preprocess_data(\n",
    "    file_name   =\t\t'betaset_tmp.csv'\n",
    "    ,indp_size  =\t\t0.05\n",
    "    ,test_size  =\t\t0.15\n",
    "    ,shfl_splt\t=\t\tFalse\n",
    "    ,t_start    =\t\t570\n",
    "    ,t_end\t\t=\t\t720\n",
    "    ,mod_type\t=\t\t'Classification'\n",
    "    ,target_t\t=\t\t15\n",
    "    ,num_class\t=\t\t2\n",
    "    ,split_val\t=\t\t5\n",
    "    ,verbose\t=\t\t1\n",
    "    ,scaler\t\t=\t\t'Standard'\n",
    "    ,frmt_lstm\t=\t\tFalse\n",
    "    ,time_steps =\t\t5\n",
    ")"
   ]
  },
  {
   "cell_type": "code",
   "execution_count": 1,
   "metadata": {},
   "outputs": [
    {
     "name": "stderr",
     "output_type": "stream",
     "text": [
      "2024-12-15 17:29:52.259844: I tensorflow/core/util/port.cc:153] oneDNN custom operations are on. You may see slightly different numerical results due to floating-point round-off errors from different computation orders. To turn them off, set the environment variable `TF_ENABLE_ONEDNN_OPTS=0`.\n",
      "2024-12-15 17:29:52.385323: E external/local_xla/xla/stream_executor/cuda/cuda_fft.cc:477] Unable to register cuFFT factory: Attempting to register factory for plugin cuFFT when one has already been registered\n",
      "WARNING: All log messages before absl::InitializeLog() is called are written to STDERR\n",
      "E0000 00:00:1734301792.436956   30441 cuda_dnn.cc:8310] Unable to register cuDNN factory: Attempting to register factory for plugin cuDNN when one has already been registered\n",
      "E0000 00:00:1734301792.452094   30441 cuda_blas.cc:1418] Unable to register cuBLAS factory: Attempting to register factory for plugin cuBLAS when one has already been registered\n",
      "2024-12-15 17:29:52.573890: I tensorflow/core/platform/cpu_feature_guard.cc:210] This TensorFlow binary is optimized to use available CPU instructions in performance-critical operations.\n",
      "To enable the following instructions: AVX2 AVX_VNNI FMA, in other operations, rebuild TensorFlow with the appropriate compiler flags.\n"
     ]
    }
   ],
   "source": [
    "import tensorflow as tf"
   ]
  }
 ],
 "metadata": {
  "kernelspec": {
   "display_name": ".tf_",
   "language": "python",
   "name": "python3"
  },
  "language_info": {
   "codemirror_mode": {
    "name": "ipython",
    "version": 3
   },
   "file_extension": ".py",
   "mimetype": "text/x-python",
   "name": "python",
   "nbconvert_exporter": "python",
   "pygments_lexer": "ipython3",
   "version": "3.12.3"
  }
 },
 "nbformat": 4,
 "nbformat_minor": 2
}
