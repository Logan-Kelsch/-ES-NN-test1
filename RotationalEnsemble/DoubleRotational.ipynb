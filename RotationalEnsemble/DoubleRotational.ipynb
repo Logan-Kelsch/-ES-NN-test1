{
 "cells": [
  {
   "cell_type": "markdown",
   "metadata": {},
   "source": [
    "### This file will use the Rotational Forest Classifier from the Aeon library"
   ]
  },
  {
   "cell_type": "code",
   "execution_count": 1,
   "metadata": {},
   "outputs": [
    {
     "name": "stdout",
     "output_type": "stream",
     "text": [
      "Trying to load CSV file into DataFrame...Success.\n",
      "Trying to drop unused targets...Success.\n",
      "Trying to collect indices of wanted times...Success.\n",
      "Trying to drop price features...Success...\n",
      "\n",
      "# of Samples:\t226576\n",
      "\n",
      "# of Features:\t436\n",
      "\n",
      "Target:\t\ttc_2c_15m\n",
      "\n",
      "Trying to split DataFrame into X and y...Success.\n",
      "Trying to collect all feature names and indices...Success.\n",
      "Trying to clean up...Success.\n",
      "Trying to encode y and make class weights...Failed [NON-FATAL: NOT IMPLEMENTED]\n",
      "Trying to standardize all featurespace from training featurespace...Success.\n",
      "Trying to drop unwanted time-range samples...Success.\n",
      "\t201633 Samples Dropped.\n",
      "\n",
      "Trying to split X and y into Train/Validation/Independent...Success.\n",
      "Trying to clean up...Success.\n",
      "X_train:\t(19704, 436).\n",
      "y_train:\t(19704,).\n",
      "X_val:  \t(4989, 436).\n",
      "y_val:  \t(4989,).\n",
      "X_ind:  \t(250, 436).\n",
      "y_ind:  \t(250,).\n",
      "Collecting garbage...Success.\n",
      "Terminating.\n"
     ]
    }
   ],
   "source": [
    "from _Data_Processing import *\n",
    "\n",
    "'''\n",
    "this function returns 7 objects:\n",
    "\tdata: sets of data as X_train, X_val, X_ind, y_train, y_val, y_ind\n",
    "\tfeature_list: list of all feature names with a column index (dict)\n",
    "'''\n",
    "X_train, X_val, X_ind,\\\n",
    "y_train, y_val, y_ind,\\\n",
    "feature_subsets =\\\n",
    "preprocess_data(\n",
    "\tfile_name   =\t\t'betaset_tmp.csv'\n",
    "\t,indp_size  =\t\t0.01\n",
    "\t,test_size  =\t\t0.20\n",
    "\t,shfl_splt\t=\t\tFalse\n",
    "\t,t_start    =\t\t570\n",
    "\t,t_end\t\t=\t\t720\n",
    "\t,mod_type\t=\t\t'Classification'\n",
    "\t,target_t\t=\t\t15\n",
    "\t,num_class\t=\t\t2\n",
    "\t,split_val\t=\t\t5\n",
    "\t,verbose\t=\t\t1\n",
    "\t,scaler\t\t=\t\t'Standard'\n",
    "\t,frmt_lstm\t=\t\tFalse\n",
    "\t,time_steps =\t\t5\n",
    "\t,keep_price =\t\tFalse\n",
    ")"
   ]
  },
  {
   "cell_type": "code",
   "execution_count": 24,
   "metadata": {},
   "outputs": [
    {
     "data": {
      "text/plain": [
       "'\\nall partitions\\n\\tX_train_parts\\nall sample partitions of THE featurespace partition i\\n\\tX_train_parts[i]\\nThe single partition of THE samplespace partition j of THE featurespace partition i\\n\\tX_train_parts[i][j] -- -- -- This is now a set of trainable data\\n'"
      ]
     },
     "execution_count": 24,
     "metadata": {},
     "output_type": "execute_result"
    }
   ],
   "source": [
    "from _Data_Rotating import *\n",
    "\n",
    "'''\n",
    "This function returns 4 items.\n",
    "-\t2D array of X partitions, by featurespace and samplespace\n",
    "-\t1D array of index-lists for each featurespace-partition specific features\n",
    "-\t1D array of featurespace-partition specific rotation transformer functions\n",
    "-\t1D array of y partitions for each samplespace partition.\n",
    "'''\n",
    "\n",
    "X_train_parts, X_find_parts, X_trans_parts, y_parts = rotate_partitions(\n",
    "\tX\t\t\t\t=\tX_train\n",
    "    ,y\t\t\t\t=\ty_train\n",
    "\t,n_feat_parts\t=\t16\n",
    "\t,feat_subsets\t=\tfeature_subsets\n",
    "\t,feat_part_type\t=\t'by_subset'\n",
    "\t,fraction_feats\t=\t0.6\n",
    "\t,no_feat_overlap=\tFalse\n",
    "\t,feats_for_all\t=\t[]\n",
    "\t,rotation_type\t=\t'None'\n",
    "\t,rotation_filter=\tFalse\n",
    "\t,filter_type\t=\t'Retention'\n",
    "\t,filter_value\t=\t1.0\n",
    "    ,n_sample_parts\t=\t1\n",
    "    ,smpl_part_type\t=\t'Even'\n",
    "    ,sample_shuffle\t=\tFalse\n",
    ")\n",
    "\n",
    "'''\n",
    "all partitions\n",
    "\tX_train_parts\n",
    "all sample partitions of THE featurespace partition i\n",
    "\tX_train_parts[i]\n",
    "The single partition of THE samplespace partition j of THE featurespace partition i\n",
    "\tX_train_parts[i][j] -- -- -- This is now a set of trainable data\n",
    "'''"
   ]
  },
  {
   "cell_type": "code",
   "execution_count": 13,
   "metadata": {},
   "outputs": [
    {
     "name": "stdout",
     "output_type": "stream",
     "text": [
      "\t   'decision_tree'\n",
      "\t   'dt'\n",
      "\t\t-\t-\tSci-Kit Learn DecisionTreeClassifier\n",
      "\t\t-\t-\t{'criterion': 'gini', 'max_depth': 8, 'min_samples_split': 2, 'min_samples_leaf': 1}\n",
      "\t   \n",
      "\t   'rotation_forest'\n",
      "\t   'aeon_rf'\n",
      "\t\t   -\t-\tAEON Rotation Forest\n",
      "\t\t-\t-\t{'base_estimator': DecisionTreeClassifier(max_depth=4), 'n_estimators': 4, 'min_group': 1, 'max_group': 20, 'remove_proportion': 0.3, 'n_jobs': -1}\n",
      "\t   \n",
      "\t   \n"
     ]
    }
   ],
   "source": [
    "from _Modelset_Training import *\n",
    "\n",
    "show_available_model_types()"
   ]
  },
  {
   "cell_type": "code",
   "execution_count": 25,
   "metadata": {},
   "outputs": [
    {
     "name": "stdout",
     "output_type": "stream",
     "text": [
      "Default parameters selected.\n",
      "aeon_rf\t-\t{'base_estimator': DecisionTreeClassifier(max_depth=4), 'n_estimators': 4, 'min_group': 1, 'max_group': 20, 'remove_proportion': 0.3, 'n_jobs': -1}\n"
     ]
    }
   ],
   "source": [
    "from _Modelset_Training import *\n",
    "\n",
    "'''\n",
    "Function returns a 3D list of trained models that are fit to the resepective dataset.\n",
    "\tDim1:\tFeaturespace, here are the subsetctions/partitions for each unique set of features\n",
    "    Dim2:\tSamplespace, here are the subsetctions/partitions for each unique set of samples\n",
    "    Dim3:\tModelspace, here are the individual models trained on a unique partition\n",
    "'''\n",
    "\n",
    "models = train_models(\n",
    "    model_types=['aeon_rf']\n",
    "    ,data_parts=X_train_parts\n",
    "    ,trgt_parts=y_parts\n",
    "    ,param_mode='default'\n",
    "    ,cst_mod_prm=None\n",
    "    ,tnr_verbose=True\n",
    ")"
   ]
  },
  {
   "cell_type": "code",
   "execution_count": 26,
   "metadata": {},
   "outputs": [
    {
     "name": "stdout",
     "output_type": "stream",
     "text": [
      "Dimensions of Trained Models:\n",
      "\tFeature Space: 16\n",
      "\tSample Space: 1\n",
      "\tModel Space: 1\n",
      "\n",
      "\n",
      "\tDisplaying all performances for all independent samples: (16 cases)\n",
      "\n",
      "1\n",
      "\n",
      "Statistics Overall:\n",
      "\n",
      "\tSplit 0:\n",
      "\t\t\t\t\tAverage\tStd.Dv.\tLow\t\tHigh\n",
      "\t\tAccuracy\t0.5333734215273602\t0.0\t0.5333734215273602\t0.5333734215273602\n",
      "\t\tPrecision\t0.5493400377121307\t0.0\t0.5493400377121307\t0.5493400377121307\n",
      "\t\tRecall\t\t0.6616199848599545\t0.0\t0.6616199848599545\t0.6616199848599545\n",
      "\tSplit 1:\n",
      "\t\t\t\t\tAverage\tStd.Dv.\tLow\t\tHigh\n",
      "\t\tAccuracy\t0.5564241330928041\t0.0\t0.5564241330928041\t0.5564241330928041\n",
      "\t\tPrecision\t0.5778584392014519\t0.0\t0.5778584392014519\t0.5778584392014519\n",
      "\t\tRecall\t\t0.6025738077214232\t0.0\t0.6025738077214232\t0.6025738077214232\n",
      "\tSplit 2:\n",
      "\t\t\t\t\tAverage\tStd.Dv.\tLow\t\tHigh\n",
      "\t\tAccuracy\t0.5335738624974945\t0.0\t0.5335738624974945\t0.5335738624974945\n",
      "\t\tPrecision\t0.5420336269015212\t0.0\t0.5420336269015212\t0.5420336269015212\n",
      "\t\tRecall\t\t0.7687358062074187\t0.0\t0.7687358062074187\t0.7687358062074187\n",
      "\tSplit 3:\n",
      "\t\t\t\t\tAverage\tStd.Dv.\tLow\t\tHigh\n",
      "\t\tAccuracy\t0.5063138905592303\t0.0\t0.5063138905592303\t0.5063138905592303\n",
      "\t\tPrecision\t0.5677517032551098\t0.0\t0.5677517032551098\t0.5677517032551098\n",
      "\t\tRecall\t\t0.2838758516275549\t0.0\t0.2838758516275549\t0.2838758516275549\n",
      "\tSplit 4:\n",
      "\t\t\t\t\tAverage\tStd.Dv.\tLow\t\tHigh\n",
      "\t\tAccuracy\t0.5496091401082381\t0.0\t0.5496091401082381\t0.5496091401082381\n",
      "\t\tPrecision\t0.5756415166602834\t0.0\t0.5756415166602834\t0.5756415166602834\n",
      "\t\tRecall\t\t0.56888720666162\t0.0\t0.56888720666162\t0.56888720666162\n",
      "\tSplit 5:\n",
      "\t\t\t\t\tAverage\tStd.Dv.\tLow\t\tHigh\n",
      "\t\tAccuracy\t0.5321707757065545\t0.0\t0.5321707757065545\t0.5321707757065545\n",
      "\t\tPrecision\t0.5379871731623088\t0.0\t0.5379871731623088\t0.5379871731623088\n",
      "\t\tRecall\t\t0.8255109765329296\t0.0\t0.8255109765329296\t0.8255109765329296\n",
      "\tSplit 6:\n",
      "\t\t\t\t\tAverage\tStd.Dv.\tLow\t\tHigh\n",
      "\t\tAccuracy\t0.5223491681699739\t0.0\t0.5223491681699739\t0.5223491681699739\n",
      "\t\tPrecision\t0.5501743510267338\t0.0\t0.5501743510267338\t0.5501743510267338\n",
      "\t\tRecall\t\t0.5374716124148372\t0.0\t0.5374716124148372\t0.5374716124148372\n",
      "\tSplit 7:\n",
      "\t\t\t\t\tAverage\tStd.Dv.\tLow\t\tHigh\n",
      "\t\tAccuracy\t0.5083183002605732\t0.0\t0.5083183002605732\t0.5083183002605732\n",
      "\t\tPrecision\t0.54364896073903\t0.0\t0.54364896073903\t0.54364896073903\n",
      "\t\tRecall\t\t0.44549583648750946\t0.0\t0.44549583648750946\t0.44549583648750946\n",
      "\tSplit 8:\n",
      "\t\t\t\t\tAverage\tStd.Dv.\tLow\t\tHigh\n",
      "\t\tAccuracy\t0.5215474042894368\t0.0\t0.5215474042894368\t0.5215474042894368\n",
      "\t\tPrecision\t0.5630252100840336\t0.0\t0.5630252100840336\t0.5630252100840336\n",
      "\t\tRecall\t\t0.43111279333838004\t0.0\t0.43111279333838004\t0.43111279333838004\n",
      "\tSplit 9:\n",
      "\t\t\t\t\tAverage\tStd.Dv.\tLow\t\tHigh\n",
      "\t\tAccuracy\t0.4902786129484867\t0.0\t0.4902786129484867\t0.4902786129484867\n",
      "\t\tPrecision\t0.5268002165674066\t0.0\t0.5268002165674066\t0.5268002165674066\n",
      "\t\tRecall\t\t0.36828160484481454\t0.0\t0.36828160484481454\t0.36828160484481454\n",
      "\tSplit 10:\n",
      "\t\t\t\t\tAverage\tStd.Dv.\tLow\t\tHigh\n",
      "\t\tAccuracy\t0.5522148727199839\t0.0\t0.5522148727199839\t0.5522148727199839\n",
      "\t\tPrecision\t0.572961373390558\t0.0\t0.572961373390558\t0.572961373390558\n",
      "\t\tRecall\t\t0.6063588190764573\t0.0\t0.6063588190764573\t0.6063588190764573\n",
      "\tSplit 11:\n",
      "\t\t\t\t\tAverage\tStd.Dv.\tLow\t\tHigh\n",
      "\t\tAccuracy\t0.5526157546602526\t0.0\t0.5526157546602526\t0.5526157546602526\n",
      "\t\tPrecision\t0.5596971461852067\t0.0\t0.5596971461852067\t0.5596971461852067\n",
      "\t\tRecall\t\t0.7274791824375473\t0.0\t0.7274791824375473\t0.7274791824375473\n",
      "\tSplit 12:\n",
      "\t\t\t\t\tAverage\tStd.Dv.\tLow\t\tHigh\n",
      "\t\tAccuracy\t0.5588294247344158\t0.0\t0.5588294247344158\t0.5588294247344158\n",
      "\t\tPrecision\t0.5784418356456777\t0.0\t0.5784418356456777\t0.5784418356456777\n",
      "\t\tRecall\t\t0.615442846328539\t0.0\t0.615442846328539\t0.615442846328539\n",
      "\tSplit 13:\n",
      "\t\t\t\t\tAverage\tStd.Dv.\tLow\t\tHigh\n",
      "\t\tAccuracy\t0.5121266786931249\t0.0\t0.5121266786931249\t0.5121266786931249\n",
      "\t\tPrecision\t0.5472297910990009\t0.0\t0.5472297910990009\t0.5472297910990009\n",
      "\t\tRecall\t\t0.45609386828160486\t0.0\t0.45609386828160486\t0.45609386828160486\n",
      "\tSplit 14:\n",
      "\t\t\t\t\tAverage\tStd.Dv.\tLow\t\tHigh\n",
      "\t\tAccuracy\t0.5478051713770294\t0.0\t0.5478051713770294\t0.5478051713770294\n",
      "\t\tPrecision\t0.5655125594025797\t0.0\t0.5655125594025797\t0.5655125594025797\n",
      "\t\tRecall\t\t0.6305828917486752\t0.0\t0.6305828917486752\t0.6305828917486752\n",
      "\tSplit 15:\n",
      "\t\t\t\t\tAverage\tStd.Dv.\tLow\t\tHigh\n",
      "\t\tAccuracy\t0.5646422128683103\t0.0\t0.5646422128683103\t0.5646422128683103\n",
      "\t\tPrecision\t0.5707405177603853\t0.0\t0.5707405177603853\t0.5707405177603853\n",
      "\t\tRecall\t\t0.7176381529144588\t0.0\t0.7176381529144588\t0.7176381529144588\n"
     ]
    }
   ],
   "source": [
    "from _Model_Evaluation import *\n",
    "\n",
    "evaluate_models(\n",
    "\t\tmodels=models\n",
    "\t\t,X_findx=X_find_parts\n",
    "\t\t,X_trans=X_trans_parts\n",
    "\t\t,X_train=X_train_parts\n",
    "\t\t,y_train=y_parts\n",
    "\t\t,X_test=X_val\n",
    "\t\t,y_test=y_val\n",
    "\t\t,prfm_gnrl\t=\t'by_fspace'\n",
    "\t\t,prfm_stat\t=\t'all'\n",
    "\t\t,disp_mthd\t=\t'as_value'\n",
    "\t\t,test_whch\t=\t'independent'\n",
    "\t\t,pred_type\t=\t'classification'\n",
    ")"
   ]
  },
  {
   "cell_type": "code",
   "execution_count": null,
   "metadata": {},
   "outputs": [],
   "source": [
    "from _Prediction_Fusion import *\n",
    "\n",
    "y_pred = pred_proba_fusion(\n",
    "\tmodels=models\n",
    "\t,type_model=type(models[0])\n",
    "\t,X_test=X_val\n",
    "\t,fusion_type='Popular'\n",
    ")"
   ]
  },
  {
   "cell_type": "code",
   "execution_count": null,
   "metadata": {},
   "outputs": [],
   "source": [
    "from sklearn.tree import DecisionTreeClassifier\n",
    "from aeon.classification.sklearn import RotationForestClassifier\n",
    "\n",
    "def new_dt(max_depth):\n",
    "    return DecisionTreeClassifier(max_depth=max_depth)\n",
    "\n",
    "#56%accuracy with these stats\n",
    "model = RotationForestClassifier(base_estimator=new_dt(max_depth=4),\n",
    "                                    n_estimators=4\n",
    "                                    ,min_group=1\n",
    "                                    ,max_group=20\n",
    "                                    ,remove_proportion= 0.3\n",
    "                                    ,contract_max_n_estimators=500\n",
    "                                    ,random_state=42,n_jobs=-1)\n"
   ]
  },
  {
   "cell_type": "code",
   "execution_count": null,
   "metadata": {},
   "outputs": [],
   "source": [
    "var1 = ['123','234','345']\n",
    "var2 = 'hello'\n",
    "var3 = []\n",
    "var4 = 4\n",
    "\n",
    "for string in var1:\n",
    "\tprint(string)"
   ]
  }
 ],
 "metadata": {
  "kernelspec": {
   "display_name": ".torch_",
   "language": "python",
   "name": "python3"
  },
  "language_info": {
   "codemirror_mode": {
    "name": "ipython",
    "version": 3
   },
   "file_extension": ".py",
   "mimetype": "text/x-python",
   "name": "python",
   "nbconvert_exporter": "python",
   "pygments_lexer": "ipython3",
   "version": "3.12.3"
  }
 },
 "nbformat": 4,
 "nbformat_minor": 2
}
