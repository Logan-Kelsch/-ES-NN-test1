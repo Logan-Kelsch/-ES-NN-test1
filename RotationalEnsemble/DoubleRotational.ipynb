{
 "cells": [
  {
   "cell_type": "markdown",
   "metadata": {},
   "source": [
    "### This file will use the Rotational Forest Classifier from the Aeon library"
   ]
  },
  {
   "cell_type": "code",
   "execution_count": 1,
   "metadata": {},
   "outputs": [
    {
     "name": "stdout",
     "output_type": "stream",
     "text": [
      "Trying to load CSV file into DataFrame...Success.\n",
      "Trying to drop unused targets...Success.\n",
      "Trying to collect indices of wanted times...Success...\n",
      "\n",
      "# of Samples:\t226576\n",
      "\n",
      "# of Features:\t519\n",
      "\n",
      "Target:\t\ttc_2c_15m\n",
      "\n",
      "Trying to split DataFrame into X and y...Success.\n",
      "Trying to collect all feature names and indices...Success.\n",
      "Trying to clean up...Success.\n",
      "Trying to encode y and make class weights...Failed [NON-FATAL: NOT IMPLEMENTED]\n",
      "Success.\n",
      "Trying to drop unwanted time-range samples...Success.\n",
      "\t214004 Samples Dropped.\n",
      "\n",
      "Trying to split X and y into Train/Validation/Independent...Success.\n",
      "Trying to clean up...Success.\n",
      "X_train:\t(10057, 519).\n",
      "y_train:\t(10057,).\n",
      "X_val:  \t(1886, 519).\n",
      "y_val:  \t(1886,).\n",
      "X_ind:  \t(629, 519).\n",
      "y_ind:  \t(629,).\n",
      "Collecting garbage...Success.\n",
      "Terminating.\n"
     ]
    }
   ],
   "source": [
    "from _Data_Processing import *\n",
    "\n",
    "'''\n",
    "this function returns 7 objects:\n",
    "\tdata: sets of data as X_train, X_val, X_ind, y_train, y_val, y_ind\n",
    "\tfeature_list: list of all feature names with a column index (dict)\n",
    "'''\n",
    "X_train, X_val, X_ind,\\\n",
    "y_train, y_val, y_ind,\\\n",
    "feature_subsets =\\\n",
    "preprocess_data(\n",
    "\tfile_name   =\t\t'betaset_tmp.csv'\n",
    "\t,indp_size  =\t\t0.05\n",
    "\t,test_size  =\t\t0.15\n",
    "\t,shfl_splt\t=\t\tFalse\n",
    "\t,t_start    =\t\t570\n",
    "\t,t_end\t\t=\t\t645\n",
    "\t,mod_type\t=\t\t'Classification'\n",
    "\t,target_t\t=\t\t15\n",
    "\t,num_class\t=\t\t2\n",
    "\t,split_val\t=\t\t5\n",
    "\t,verbose\t=\t\t1\n",
    "\t,scaler\t\t=\t\t'None'\n",
    "\t,frmt_lstm\t=\t\tFalse\n",
    "\t,time_steps =\t\t5\n",
    "\t,keep_price =\t\tTrue\n",
    ")"
   ]
  },
  {
   "cell_type": "code",
   "execution_count": 23,
   "metadata": {},
   "outputs": [
    {
     "data": {
      "text/plain": [
       "'\\nall partitions\\n\\tX_train_parts\\nall sample partitions of THE featurespace partition i\\n\\tX_train_parts[i]\\nThe sample partition j of THE featurespace partition i\\n\\tX_train_parts[i][j] -- -- -- This is now a set of trainable data\\n'"
      ]
     },
     "execution_count": 23,
     "metadata": {},
     "output_type": "execute_result"
    }
   ],
   "source": [
    "from _Data_Rotating import *\n",
    "\n",
    "'''\n",
    "This function returns 1 list of rotated partitions of the training set\n",
    "'''\n",
    "\n",
    "X_train_parts = rotate_partitions(\n",
    "\tX\t\t\t\t=\tX_train\n",
    "\t,n_feat_parts\t=\t1\n",
    "\t,feat_subsets\t=\tfeature_subsets\n",
    "\t,feat_part_type\t=\t'by_subset'\n",
    "\t,fraction_feats\t=\t1\n",
    "\t,no_feat_overlap=\tFalse\n",
    "\t,feats_for_all\t=\t[]\n",
    "\t,rotation_type\t=\t'PCA'\n",
    "\t,rotation_filter=\tFalse\n",
    "\t,filter_type\t=\t'Retention'\n",
    "\t,filter_value\t=\t1.0\n",
    "    ,n_sample_parts\t=\t1\n",
    "    ,smpl_part_type\t=\t'Even'\n",
    "    ,sample_shuffle\t=\tFalse\n",
    ")\n",
    "\n",
    "'''\n",
    "all partitions\n",
    "\tX_train_parts\n",
    "all sample partitions of THE featurespace partition i\n",
    "\tX_train_parts[i]\n",
    "The sample partition j of THE featurespace partition i\n",
    "\tX_train_parts[i][j] -- -- -- This is now a set of trainable data\n",
    "'''"
   ]
  },
  {
   "cell_type": "code",
   "execution_count": 24,
   "metadata": {},
   "outputs": [
    {
     "data": {
      "text/plain": [
       "519"
      ]
     },
     "execution_count": 24,
     "metadata": {},
     "output_type": "execute_result"
    }
   ],
   "source": [
    "len(X_train_parts[0][0][0])"
   ]
  }
 ],
 "metadata": {
  "kernelspec": {
   "display_name": "logankelsch",
   "language": "python",
   "name": "python3"
  },
  "language_info": {
   "codemirror_mode": {
    "name": "ipython",
    "version": 3
   },
   "file_extension": ".py",
   "mimetype": "text/x-python",
   "name": "python",
   "nbconvert_exporter": "python",
   "pygments_lexer": "ipython3",
   "version": "3.12.3"
  }
 },
 "nbformat": 4,
 "nbformat_minor": 2
}
