{
 "cells": [
  {
   "cell_type": "code",
   "execution_count": 9,
   "metadata": {},
   "outputs": [
    {
     "name": "stdout",
     "output_type": "stream",
     "text": [
      "Clearing export header..\n",
      "Export header cleared, writing csv header..\n",
      "Header Written..\n",
      "File Written..\n",
      "Files Closed.\n",
      "TESTING FOR: Dr3\n",
      "X shape == (1, 6, 31).\n",
      "610\n",
      "\n",
      "FROM CANDLE TIME:\t11:10\n",
      "PREDICTION:\t       -1.3022\n"
     ]
    }
   ],
   "source": [
    "%run \"dm_LSTM_trading.ipynb\""
   ]
  }
 ],
 "metadata": {
  "kernelspec": {
   "display_name": "base",
   "language": "python",
   "name": "python3"
  },
  "language_info": {
   "codemirror_mode": {
    "name": "ipython",
    "version": 3
   },
   "file_extension": ".py",
   "mimetype": "text/x-python",
   "name": "python",
   "nbconvert_exporter": "python",
   "pygments_lexer": "ipython3",
   "version": "3.12.4"
  }
 },
 "nbformat": 4,
 "nbformat_minor": 2
}
