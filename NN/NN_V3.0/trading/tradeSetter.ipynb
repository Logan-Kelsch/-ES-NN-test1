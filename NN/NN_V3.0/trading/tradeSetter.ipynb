{
 "cells": [
  {
   "cell_type": "code",
   "execution_count": 7,
   "metadata": {},
   "outputs": [
    {
     "name": "stdout",
     "output_type": "stream",
     "text": [
      "Clearing export header..\n",
      "Export header cleared, writing csv header..\n",
      "Header Written..\n",
      "File Written..\n",
      "Files Closed.\n"
     ]
    }
   ],
   "source": [
    "#NOTE NOTE NOTE \n",
    "#THIS FUNCTION WAS IMPLEMENTED IN \"dm_LSTM_trading.ipynb\"\n",
    "#as long as timesteps are not changed this file does not need to be edited\n",
    "timeSteps = 6\n",
    "path = 'C:\\\\Users\\\\logan\\\\OneDrive\\\\Documents\\\\'\n",
    "nameT = 'td'\n",
    "name=path+nameT+'.csv'\n",
    "print(\"Clearing export header..\")\n",
    "data = open(name,'r')\n",
    "of = open('dm_LSTM_trade.csv','w')\n",
    "of.truncate()\n",
    "for i in range(6):\n",
    "    line = data.readline()\n",
    "#reader = csv.reader(data)\n",
    "print(\"Export header cleared, writing csv header..\")\n",
    "of.write(\"vel5,vel10,vel15,vel30,vel60,acc5,acc10,acc15,\\\n",
    "acc30,acc60,stoch12,stochDiff6012,RSIhl_diff,RSIhl_diffROC,\\\n",
    "vol,vol10,vol15,vol30,vol60,volD10,volD15,volD30,volD60,vpm5,\\\n",
    "vpm10,vpm15,vpm30,vpm60,ToD,DoW,MO\\n\")\n",
    "lines = data.readlines()\n",
    "print(\"Header Written..\")\n",
    "catLine=''\n",
    "ToD = 0\n",
    "offs = 7\n",
    "for i in range(len(lines)-offs-(timeSteps*2),len(lines)-offs):\n",
    "    line = lines[i]\n",
    "    if(line.find('S')==-1):\n",
    "        catLine = line[line.find('(')+1:line.find(')')]\n",
    "        catLine = catLine.replace(',','')\n",
    "        catLine = catLine.replace('|',',')\n",
    "        of.write(catLine)\n",
    "        of.write('\\n')\n",
    "        if(i==len(lines)-offs-1):\n",
    "            of.write(catLine)\n",
    "print(\"File Written..\")\n",
    "of.close()\n",
    "data.close()\n",
    "print(\"Files Closed.\")"
   ]
  }
 ],
 "metadata": {
  "kernelspec": {
   "display_name": "base",
   "language": "python",
   "name": "python3"
  },
  "language_info": {
   "codemirror_mode": {
    "name": "ipython",
    "version": 3
   },
   "file_extension": ".py",
   "mimetype": "text/x-python",
   "name": "python",
   "nbconvert_exporter": "python",
   "pygments_lexer": "ipython3",
   "version": "3.12.4"
  }
 },
 "nbformat": 4,
 "nbformat_minor": 2
}
