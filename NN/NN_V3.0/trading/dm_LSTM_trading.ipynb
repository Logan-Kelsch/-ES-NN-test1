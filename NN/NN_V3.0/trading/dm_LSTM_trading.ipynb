{
 "cells": [
  {
   "cell_type": "code",
   "execution_count": 40,
   "metadata": {},
   "outputs": [
    {
     "name": "stdout",
     "output_type": "stream",
     "text": [
      "Clearing export header..\n",
      "Export header cleared, writing csv header..\n",
      "Header Written..\n",
      "File Written..\n",
      "Files Closed.\n",
      "TESTED FEATURES: \n",
      "Index(['vel5', 'vel10', 'vel15', 'vel30', 'vel60', 'acc5', 'acc10', 'acc15',\n",
      "       'acc30', 'acc60', 'stoch12', 'stochDiff6012', 'RSIhl_diff',\n",
      "       'RSIhl_diffROC', 'vol', 'vol10', 'vol15', 'vol30', 'vol60', 'volD10',\n",
      "       'volD15', 'volD30', 'volD60', 'vpm5', 'vpm10', 'vpm15', 'vpm30',\n",
      "       'vpm60', 'ToD', 'DoW', 'MO'],\n",
      "      dtype='object')\n",
      "TESTING FOR: Dr3\n",
      "X shape == (1, 6, 31).\n",
      "1405\n",
      "\n",
      "FROM CANDLE TIME:\t12:25\n",
      "PREDICTION:\t       4.1727\n"
     ]
    }
   ],
   "source": [
    "#IMPORT LIBRARIES-------------------------------------------------------\n",
    "import pandas as pd\n",
    "import numpy as np\n",
    "import tensorflow as tf\n",
    "import matplotlib.pyplot as plt\n",
    "import seaborn as sns\n",
    "from sklearn.preprocessing import StandardScaler\n",
    "#LOAD DATA FROM CSV-------------------------------------------------------\n",
    "\n",
    "%run \"tradeSetter.ipynb\"\n",
    "\n",
    "\n",
    "data = pd.read_csv('dm_LSTM_trade.csv')\n",
    "dataTRAIN = pd.read_csv('C:\\\\Users\\\\logan\\\\-ES-NN-test1\\\\NN\\\\NN_V3.0\\\\catted_1.csv')\n",
    "#      'Dr1' 'Dr3' 'Mr1' 'Mr3' \n",
    "testFor = 'Dr3'\n",
    "timeSteps = 6\n",
    "#data = data.drop(columns=['FT','FT.1','FT.2','YM_diff','NQ_diff','volNQdiff',\n",
    "#                          'volYMdiff','Mc1','Mc3','Dc1','Dc3','Dr1','Mr1','Mr3'])\n",
    "dataTRAIN = dataTRAIN.drop(columns=['FT','FT.1','FT.2','YM_diff','NQ_diff','volNQdiff',\n",
    "                                    'volYMdiff','Dr1','Mr1','Mr3','Mc1','Mc3','Dc1','Dc3'])\n",
    "\n",
    "\n",
    "Xfeatures = data.columns[:]\n",
    "print(\"TESTED FEATURES: \")\n",
    "print(Xfeatures)\n",
    "print(\"TESTING FOR: Dr3\")\n",
    "\n",
    "# Separate features and target\n",
    "X = data.iloc[:,:].values\n",
    "\n",
    "XTRAIN = dataTRAIN.iloc[:, :-1].values\n",
    "\n",
    "scaler1 = StandardScaler()\n",
    "scaler1.fit(XTRAIN)\n",
    "XTRAIN = scaler1.transform(XTRAIN)\n",
    "X = scaler1.transform(X)\n",
    "\n",
    "def reformat_to_lstm(X, time_steps=timeSteps):\n",
    "    X_lstm = []\n",
    "    for i in range(time_steps, len(X)):\n",
    "        X_lstm.append(X[i-time_steps:i])\n",
    "    X_lstm = np.array(X_lstm)\n",
    "    return X_lstm\n",
    "\n",
    "X = reformat_to_lstm(X, timeSteps)\n",
    "\n",
    "print('X shape == {}.'.format(X.shape))\n",
    "\n",
    "loaded_model = tf.keras.models.load_model('C:\\\\Users\\\\logan\\\\-ES-NN-test1\\\\NN\\\\NN_V3.0\\\\LSTM_Dr3_6step_10.keras')\n",
    "y_pred = loaded_model.predict(X,verbose=0) \n",
    "y_pred = y_pred[0][0]\n",
    "ToD = data.iloc[-2:-1,-3:-2].values[0][0]\n",
    "print(ToD)\n",
    "print(f\"\\nFROM CANDLE TIME:\\t{(ToD//60)%12+1}:{ToD%60}\\nPREDICTION:\\t       {y_pred*10000//1/10000}\")\n"
   ]
  }
 ],
 "metadata": {
  "kernelspec": {
   "display_name": "base",
   "language": "python",
   "name": "python3"
  },
  "language_info": {
   "codemirror_mode": {
    "name": "ipython",
    "version": 3
   },
   "file_extension": ".py",
   "mimetype": "text/x-python",
   "name": "python",
   "nbconvert_exporter": "python",
   "pygments_lexer": "ipython3",
   "version": "3.12.4"
  }
 },
 "nbformat": 4,
 "nbformat_minor": 2
}
