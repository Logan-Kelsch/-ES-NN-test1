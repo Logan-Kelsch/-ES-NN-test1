{
 "cells": [
  {
   "cell_type": "code",
   "execution_count": 1,
   "metadata": {},
   "outputs": [],
   "source": [
    "import pandas as pd\n",
    "\n",
    "path = 'C:\\\\Users\\\\logan\\\\-ES-NN-test1\\\\CollectedData\\\\DATA_V3.0\\\\_'\n",
    "version = '4'\n",
    "Ntrend=path+'trend_'+version+'.csv'\n",
    "Nparti=path+'parti_'+version+'.csv'\n",
    "Ncalen=path+'calen_'+version+'.csv'\n",
    "\n",
    "Ftrend = pd.read_csv(Ntrend)\n",
    "Fparti = pd.read_csv(Nparti)\n",
    "Fcalen = pd.read_csv(Ncalen)\n",
    "\n",
    "#catt = pd.read_csv('catted_1.csv')\n",
    "\n",
    "merged = pd.concat([Ftrend,Fparti,Fcalen],axis=1)\n",
    "\n",
    "merged.to_csv('catted_'+version+'.csv',index=None)"
   ]
  }
 ],
 "metadata": {
  "kernelspec": {
   "display_name": "base",
   "language": "python",
   "name": "python3"
  },
  "language_info": {
   "codemirror_mode": {
    "name": "ipython",
    "version": 3
   },
   "file_extension": ".py",
   "mimetype": "text/x-python",
   "name": "python",
   "nbconvert_exporter": "python",
   "pygments_lexer": "ipython3",
   "version": "3.12.4"
  }
 },
 "nbformat": 4,
 "nbformat_minor": 2
}
