{
 "cells": [
  {
   "cell_type": "code",
   "execution_count": 2,
   "metadata": {},
   "outputs": [
    {
     "name": "stdout",
     "output_type": "stream",
     "text": [
      "Id;Strategy;Side;Quantity;Amount;Price;Date/Time;Trade P/L;P/L;Position;\n",
      "\n"
     ]
    }
   ],
   "source": [
    "path = 'C:\\\\Users\\\\logan\\\\-ES-NN-test1\\\\CollectedData\\\\DATA_V3.0\\\\_'\n",
    "nameT = 'calen'\n",
    "version = '1'\n",
    "name=path+nameT+version+'_full.csv'\n",
    "\n",
    "data = open(name,'r')\n",
    "of = open(path+nameT+'_'+version+'.csv','w')\n",
    "for i in range(6):\n",
    "    line = data.readline()\n",
    "#fType = input('Please enter which dataset this is.\\nTrend - t\\nParticipation - p\\nCalendar - c\\nEntry:')\n",
    "match nameT:\n",
    "    case 'trend':\n",
    "        of.write(\"FT,vel5,vel10,vel15,vel30,vel60,acc5,acc10,acc15,acc30,acc60,stoch12,stochDiff6012,RSIhl_diff,RSIhl_diffROC,YM_diff,NQ_diff\\n\")\n",
    "    case 'parti':\n",
    "        of.write(\"FT,vol,vol10,vol15,vol30,vol60,volD10,volD15,volD30,volD60,volNQdiff,volYMdiff,vpm5,vpm10,vpm15,vpm30,vpm60\\n\")\n",
    "    case 'calen':\n",
    "        of.write(\"FT,ToD,DoW,MO,Dc1,Dc3,Dr1,Dr3,Mc1,Mc3,Mr1,Mr3\\n\")\n",
    "    case _:\n",
    "        print(\"Improper Input\")\n",
    "        exit\n",
    "print(line)\n",
    "catLine=''\n",
    "for i in range(52000):\n",
    "    line = data.readline()\n",
    "    if(line.find('S')==-1):\n",
    "        catLine = line[line.find('(')+1:line.find(')')]\n",
    "        catLine = catLine.replace(',','')\n",
    "        catLine = catLine.replace('|',',')\n",
    "        of.write(catLine)\n",
    "        of.write('\\n')\n",
    "        #print(catLine)\n",
    "        #print(line)\n",
    "        #print()\n",
    "        \n",
    "\n",
    "\n",
    "of.close()\n",
    "data.close()"
   ]
  },
  {
   "cell_type": "code",
   "execution_count": 17,
   "metadata": {},
   "outputs": [],
   "source": [
    "import pandas as pd\n",
    "\n",
    "data = pd.read_csv(path+\"parti_1.csv\")\n",
    "data = data.drop(columns=['FT'])\n",
    "data.to_csv(path+\"parti_1.csv\")"
   ]
  }
 ],
 "metadata": {
  "kernelspec": {
   "display_name": "base",
   "language": "python",
   "name": "python3"
  },
  "language_info": {
   "codemirror_mode": {
    "name": "ipython",
    "version": 3
   },
   "file_extension": ".py",
   "mimetype": "text/x-python",
   "name": "python",
   "nbconvert_exporter": "python",
   "pygments_lexer": "ipython3",
   "version": "3.12.4"
  }
 },
 "nbformat": 4,
 "nbformat_minor": 2
}
