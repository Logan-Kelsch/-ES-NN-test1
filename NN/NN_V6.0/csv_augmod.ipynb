{
 "cells": [
  {
   "cell_type": "code",
   "execution_count": 1,
   "metadata": {},
   "outputs": [],
   "source": [
    "'''\n",
    "    the final version of this file should be able to fully clean and expand any csv file with over 60 samples in one execution\n",
    "'''\n",
    "\n",
    "import pandas as pd\n",
    "import numpy as np\n",
    "\n",
    "#personal dataset expansion file\n",
    "from feature_creation import *\n",
    "\n",
    "fIN_name = 'd1_clean.csv'\n",
    "\n",
    "#currently using polished dataset\n",
    "data = pd.read_csv(fIN_name)\n",
    "\n",
    "full_set = augmod_dataset(data)\n",
    "\n",
    "full_set.to_csv(\"betaset_tmp.csv\",index=False)\n"
   ]
  }
 ],
 "metadata": {
  "kernelspec": {
   "display_name": "logankelsch",
   "language": "python",
   "name": "python3"
  },
  "language_info": {
   "codemirror_mode": {
    "name": "ipython",
    "version": 3
   },
   "file_extension": ".py",
   "mimetype": "text/x-python",
   "name": "python",
   "nbconvert_exporter": "python",
   "pygments_lexer": "ipython3",
   "version": "3.12.3"
  }
 },
 "nbformat": 4,
 "nbformat_minor": 2
}
