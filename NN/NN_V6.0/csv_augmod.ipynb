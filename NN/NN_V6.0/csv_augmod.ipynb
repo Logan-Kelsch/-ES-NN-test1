{
 "cells": [
  {
   "cell_type": "code",
   "execution_count": 6,
   "metadata": {},
   "outputs": [],
   "source": [
    "'''\n",
    "    the final version of this file should be able to fully clean and expand any csv file with over 60 samples in one execution\n",
    "'''\n",
    "\n",
    "import pandas as pd\n",
    "import numpy as np\n",
    "\n",
    "#personal dataset expansion file\n",
    "from feature_creation import *\n",
    "\n",
    "fIN_name = 'd1_clean.csv'\n",
    "\n",
    "#currently using polished dataset\n",
    "data = pd.read_csv(fIN_name)\n",
    "\n",
    "#print(data.iloc[120:122])\n",
    "\n",
    "f_vel = fe_vel(data)#NOTE WORKING\n",
    "f_acc = fe_acc(data)#NOTE WORKING\n",
    "f_stchK = fe_stoch_k(data)#NOTE WORKING\n",
    "\n",
    "targets = te_vel(data)#NOTE WORKING\n",
    "\n",
    "#f_vel.to_csv('tmp.csv', index=False)\n",
    "\n",
    "data = data.iloc[120:].reset_index(drop=True)\n",
    "\n",
    "df_list = [data, f_vel, f_acc, f_stchK, targets]\n",
    "\n",
    "# Step 1: Find the minimum number of rows among all DataFrames\n",
    "#min_length = min(len(df) for df in df_list)\n",
    "\n",
    "\n",
    "\n",
    "# Step 2: Truncate all DataFrames to the minimum length\n",
    "#truncated_dfs = [df.iloc[:min_length] for df in df_list]\n",
    "\n",
    "aligned_df = pd.concat(df_list, axis=1)\n",
    "\n",
    "#aligned_df = aligned_df.iloc[61:]\n",
    "\n",
    "aligned_df.to_csv(\"tmp1.csv\",index=False)\n"
   ]
  }
 ],
 "metadata": {
  "kernelspec": {
   "display_name": "venv",
   "language": "python",
   "name": "python3"
  },
  "language_info": {
   "codemirror_mode": {
    "name": "ipython",
    "version": 3
   },
   "file_extension": ".py",
   "mimetype": "text/x-python",
   "name": "python",
   "nbconvert_exporter": "python",
   "pygments_lexer": "ipython3",
   "version": "3.12.3"
  }
 },
 "nbformat": 4,
 "nbformat_minor": 2
}
