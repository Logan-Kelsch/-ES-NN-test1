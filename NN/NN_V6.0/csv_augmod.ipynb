{
 "cells": [
  {
   "cell_type": "code",
   "execution_count": 1,
   "metadata": {},
   "outputs": [],
   "source": [
    "'''\n",
    "    the final version of this file should be able to fully clean and expand any csv file with over 60 samples in one execution\n",
    "'''\n",
    "\n",
    "import pandas as pd\n",
    "import numpy as np\n",
    "\n",
    "#personal dataset expansion file\n",
    "from feature_creation import *\n",
    "\n",
    "fIN_name = 'd1_clean.csv'\n",
    "\n",
    "#currently using polished dataset\n",
    "data = pd.read_csv(fIN_name)\n",
    "\n",
    "#f_vel = fe_vel(data)#NOTE WORKING\n",
    "#f_acc = fe_acc(data)#NOTE WORKING\n",
    "f_stchK = fe_stoch_k(data)\n",
    "\n",
    "#data.describe()\n",
    "#new_data.describe()\n",
    "\n",
    "f_stchK.to_csv(\"tmp.csv\",index=False)"
   ]
  }
 ],
 "metadata": {
  "kernelspec": {
   "display_name": "venv",
   "language": "python",
   "name": "python3"
  },
  "language_info": {
   "codemirror_mode": {
    "name": "ipython",
    "version": 3
   },
   "file_extension": ".py",
   "mimetype": "text/x-python",
   "name": "python",
   "nbconvert_exporter": "python",
   "pygments_lexer": "ipython3",
   "version": "3.12.3"
  }
 },
 "nbformat": 4,
 "nbformat_minor": 2
}
