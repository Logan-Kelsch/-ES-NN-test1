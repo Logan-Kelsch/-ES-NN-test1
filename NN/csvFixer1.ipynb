{
 "cells": [
  {
   "cell_type": "code",
   "execution_count": 1,
   "metadata": {},
   "outputs": [
    {
     "name": "stdout",
     "output_type": "stream",
     "text": [
      "Id;Strategy;Side;Quantity;Amount;Price;Date/Time;Trade P/L;P/L;Position;\n",
      "\n"
     ]
    }
   ],
   "source": [
    "data = open('ES5m90dCLASS.csv','r')\n",
    "of = open('polishcsv.csv','w')\n",
    "for i in range(6):\n",
    "    line = data.readline()\n",
    "of.write(\"fullTime,FullK,diffKD,OB,OS,vol,s15,s30,s60,ToD,perc30,perc60,percD,RSI,Wpercent,acc,bull15,bear15,bull30,bear30,bull60,bear60\\n\")\n",
    "print(line)\n",
    "catLine=''\n",
    "for i in range(52000):\n",
    "    line = data.readline()\n",
    "    if(line.find('S')==-1):\n",
    "        catLine = line[line.find('(')+1:line.find(')')]\n",
    "        catLine = catLine.replace(',','')\n",
    "        catLine = catLine.replace('|',',')\n",
    "        of.write(catLine)\n",
    "        of.write('\\n')\n",
    "        #print(catLine)\n",
    "        #print(line)\n",
    "        #print()\n",
    "        \n",
    "\n",
    "\n",
    "of.close()\n",
    "data.close()"
   ]
  }
 ],
 "metadata": {
  "kernelspec": {
   "display_name": "base",
   "language": "python",
   "name": "python3"
  },
  "language_info": {
   "codemirror_mode": {
    "name": "ipython",
    "version": 3
   },
   "file_extension": ".py",
   "mimetype": "text/x-python",
   "name": "python",
   "nbconvert_exporter": "python",
   "pygments_lexer": "ipython3",
   "version": "3.12.4"
  }
 },
 "nbformat": 4,
 "nbformat_minor": 2
}
