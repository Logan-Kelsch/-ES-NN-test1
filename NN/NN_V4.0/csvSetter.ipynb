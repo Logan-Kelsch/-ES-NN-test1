{
 "cells": [
  {
   "cell_type": "code",
   "execution_count": 3,
   "metadata": {},
   "outputs": [
    {
     "name": "stdout",
     "output_type": "stream",
     "text": [
      "header written, lines read..\n",
      "file written..\n",
      "files closed.\n"
     ]
    }
   ],
   "source": [
    "path = 'C:\\\\Users\\\\logan\\\\-ES-NN-test1\\\\CollectedData\\\\DATA_V4.0\\\\d'\n",
    "set = '1'\n",
    "section = '2'\n",
    "name=path+set+'_'+section+'.csv'\n",
    "\n",
    "data = open(name,'r')\n",
    "of = open(path+set+'_'+section+'_.csv','w')\n",
    "for i in range(6):\n",
    "    line = data.readline()\n",
    "#fType = input('Please enter which dataset this is.\\nTrend - t\\nParticipation - p\\nCalendar - c\\nEntry:')\n",
    "match section:\n",
    "    case '1':\n",
    "        of.write(\"FT,vel5,vel10,vel15,vel30,vel60,acc5,acc10,acc15,acc30,acc60,stoch12,stochDiff6012,RSIhl_diff,RSIhl_diffROC,HLdiff,HL2,H2L,HLdiff12,HLdiff21,vol,vol10,vol15\\n\")\n",
    "    case '2':\n",
    "        of.write(\"FT,vol30,vol60,volD10,volD15,volD30,volD60,vpm5,vpm10,vpm15,vpm30,vpm60,ToD,DoW,mo,r1,r2,r3,r5,r10,r15,r30,r60\\n\")\n",
    "    case _:\n",
    "        print(\"Improper Input\")\n",
    "        exit\n",
    "lines = data.readlines()\n",
    "print('header written, lines read..')\n",
    "catLine=''\n",
    "for i in range(0,len(lines)-7):\n",
    "    line = lines[i]\n",
    "    if(line.find('S')==-1):\n",
    "        catLine = line[line.find('(')+1:line.find(')')]\n",
    "        catLine = catLine.replace(',','')\n",
    "        catLine = catLine.replace('|',',')\n",
    "        of.write(catLine)\n",
    "        of.write('\\n')\n",
    "        #print(catLine)\n",
    "        #print(line)\n",
    "        #print()\n",
    "print('file written..')\n",
    "of.close()\n",
    "data.close()\n",
    "print('files closed.')"
   ]
  },
  {
   "cell_type": "code",
   "execution_count": 17,
   "metadata": {},
   "outputs": [],
   "source": [
    "import pandas as pd\n",
    "\n",
    "data = pd.read_csv(path+\"parti_1.csv\")\n",
    "data = data.drop(columns=['FT'])\n",
    "data.to_csv(path+\"parti_1.csv\")"
   ]
  }
 ],
 "metadata": {
  "kernelspec": {
   "display_name": "base",
   "language": "python",
   "name": "python3"
  },
  "language_info": {
   "codemirror_mode": {
    "name": "ipython",
    "version": 3
   },
   "file_extension": ".py",
   "mimetype": "text/x-python",
   "name": "python",
   "nbconvert_exporter": "python",
   "pygments_lexer": "ipython3",
   "version": "3.12.4"
  }
 },
 "nbformat": 4,
 "nbformat_minor": 2
}
