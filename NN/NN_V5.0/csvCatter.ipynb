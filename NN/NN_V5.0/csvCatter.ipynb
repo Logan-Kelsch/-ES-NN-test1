{
 "cells": [
  {
   "cell_type": "code",
   "execution_count": 8,
   "metadata": {},
   "outputs": [],
   "source": [
    "import pandas as pd\n",
    "\n",
    "path = 'C:\\\\Users\\\\logan\\\\-ES-NN-test1\\\\CollectedData\\\\DATA_V4.0\\\\d'\n",
    "set = '5'\n",
    "N1=path+set+'_1_.csv'\n",
    "N2=path+set+'_2_.csv'\n",
    "\n",
    "F1 = pd.read_csv(N1)\n",
    "F2 = pd.read_csv(N2)\n",
    "\n",
    "#catt = pd.read_csv('catted_1.csv')\n",
    "\n",
    "merged = pd.concat([F1,F2],axis=1)\n",
    "\n",
    "merged.to_csv('catted_'+set+'.csv',index=None)"
   ]
  }
 ],
 "metadata": {
  "kernelspec": {
   "display_name": "base",
   "language": "python",
   "name": "python3"
  },
  "language_info": {
   "codemirror_mode": {
    "name": "ipython",
    "version": 3
   },
   "file_extension": ".py",
   "mimetype": "text/x-python",
   "name": "python",
   "nbconvert_exporter": "python",
   "pygments_lexer": "ipython3",
   "version": "3.12.4"
  }
 },
 "nbformat": 4,
 "nbformat_minor": 2
}
