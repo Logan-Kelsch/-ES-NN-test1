{
 "cells": [
  {
   "cell_type": "code",
   "execution_count": null,
   "metadata": {},
   "outputs": [],
   "source": [
    "data = open('fiveDay5m.csv','r')\n",
    "of = open('polishcsv.csv','w')\n",
    "for i in range(6):\n",
    "    line = data.readline()\n",
    "of.write(\"FT,FullK,diffKD,OB,OS,vol,s15,s30,s60,ToD,Inertias,percBB,spreadRSI,ADX,RSI,Wpercent,acc,CLASS\\n\")\n",
    "print(line)\n",
    "catLine=''\n",
    "for i in range(52000):\n",
    "    line = data.readline()\n",
    "    if(line.find('S')==-1):\n",
    "        catLine = line[line.find('(')+1:line.find(')')]\n",
    "        catLine = catLine.replace(',','')\n",
    "        catLine = catLine.replace('|',',')\n",
    "        of.write(catLine)\n",
    "        of.write('\\n')\n",
    "        #print(catLine)\n",
    "        #print(line)\n",
    "        #print()\n",
    "        \n",
    "\n",
    "\n",
    "of.close()\n",
    "data.close()"
   ]
  },
  {
   "cell_type": "code",
   "execution_count": null,
   "metadata": {},
   "outputs": [],
   "source": [
    "import pandas as pd\n",
    "infile = pd.read_csv('tmpout1.csv')\n",
    "infile.describe()"
   ]
  }
 ],
 "metadata": {
  "kernelspec": {
   "display_name": "base",
   "language": "python",
   "name": "python3"
  },
  "language_info": {
   "codemirror_mode": {
    "name": "ipython",
    "version": 3
   },
   "file_extension": ".py",
   "mimetype": "text/x-python",
   "name": "python",
   "nbconvert_exporter": "python",
   "pygments_lexer": "ipython3",
   "version": "3.12.4"
  }
 },
 "nbformat": 4,
 "nbformat_minor": 2
}
